{
 "cells": [
  {
   "cell_type": "code",
   "execution_count": 2,
   "metadata": {},
   "outputs": [],
   "source": [
    "# Import SparkConf class into program\n",
    "from pyspark import SparkConf\n",
    "from pyspark import SparkContext # Spark\n",
    "from pyspark.sql import SparkSession # Spark SQL\n",
    "import pyspark.sql.functions as F\n",
    "from pyspark.sql.types import IntegerType\n",
    "from pyspark.sql.types import *\n",
    "from pyspark.sql.functions import *\n",
    "from pyspark.sql.types import IntegerType\n",
    "import matplotlib.pyplot as plt\n",
    "from pyspark.sql.functions import udf\n",
    "from pyspark.sql.types import IntegerType\n",
    "from pyspark.sql.functions import isnan, when, count, col\n"
   ]
  },
  {
   "cell_type": "markdown",
   "metadata": {},
   "source": [
    "# 1.1"
   ]
  },
  {
   "cell_type": "code",
   "execution_count": 6,
   "metadata": {},
   "outputs": [],
   "source": [
    "# local[*]: run Spark in local mode with as many working processors as logical cores on your machine\n",
    "# If we want Spark to run locally with 'k' worker threads, we can specify as \"local[k]\".\n",
    "master = \"local[*]\"\n",
    "# The `appName` field is a name to be shown on the Spark cluster UI page\n",
    "app_name = \"My spark assignment_2 \"\n",
    "# Setup configuration parameters for Spark\n",
    "spark_conf = SparkConf().setMaster(master).setAppName(app_name)\n"
   ]
  },
  {
   "cell_type": "code",
   "execution_count": 7,
   "metadata": {},
   "outputs": [],
   "source": [
    "spark = SparkSession.builder.config(conf=spark_conf).getOrCreate()\n",
    "sc = spark.sparkContext\n",
    "sc.setLogLevel('ERROR')\n",
    "                                  #### spark initialization"
   ]
  },
  {
   "cell_type": "code",
   "execution_count": 8,
   "metadata": {},
   "outputs": [
    {
     "data": {
      "text/plain": [
       "DataFrame[key: string, value: string]"
      ]
     },
     "execution_count": 8,
     "metadata": {},
     "output_type": "execute_result"
    }
   ],
   "source": [
    "spark.sql(\"set spark.sql.files.maxPartitionBytes = 13421779\")"
   ]
  },
  {
   "cell_type": "code",
   "execution_count": 9,
   "metadata": {},
   "outputs": [],
   "source": [
    "path_1 = ['linux_memory_1.csv','linux_memory_2.csv']\n",
    "df_memory =  spark.read.option(\"header\", \"true\").option(\"inferSchema\", \"true\").csv(path_1)                  #### load  all csv files by passing a list of paths of files"
   ]
  },
  {
   "cell_type": "code",
   "execution_count": 10,
   "metadata": {},
   "outputs": [],
   "source": [
    "path_2 = ['linux_process_1.csv','linux_process_2.csv']\n",
    "df_process =  spark.read.option(\"header\", \"true\").option(\"inferSchema\", \"true\").csv(path_2)                  #### load  all csv files by passing a list of paths of files"
   ]
  },
  {
   "cell_type": "code",
   "execution_count": 11,
   "metadata": {},
   "outputs": [
    {
     "data": {
      "text/plain": [
       "10"
      ]
     },
     "execution_count": 11,
     "metadata": {},
     "output_type": "execute_result"
    }
   ],
   "source": [
    "#df_memory.rdd.getNumPartitions()\n",
    "df_process.rdd.getNumPartitions()\n"
   ]
  },
  {
   "cell_type": "markdown",
   "metadata": {},
   "source": [
    "# 1.2 "
   ]
  },
  {
   "cell_type": "markdown",
   "metadata": {},
   "source": [
    "### 1.2.1"
   ]
  },
  {
   "cell_type": "code",
   "execution_count": 12,
   "metadata": {},
   "outputs": [
    {
     "name": "stdout",
     "output_type": "stream",
     "text": [
      "root\n",
      " |-- ts: integer (nullable = true)\n",
      " |-- PID: integer (nullable = true)\n",
      " |-- MINFLT: string (nullable = true)\n",
      " |-- MAJFLT: string (nullable = true)\n",
      " |-- VSTEXT: string (nullable = true)\n",
      " |-- VSIZE: double (nullable = true)\n",
      " |-- RSIZE: string (nullable = true)\n",
      " |-- VGROW: string (nullable = true)\n",
      " |-- RGROW: string (nullable = true)\n",
      " |-- MEM: double (nullable = true)\n",
      " |-- CMD: string (nullable = true)\n",
      " |-- attack: integer (nullable = true)\n",
      " |-- type: string (nullable = true)\n",
      "\n"
     ]
    }
   ],
   "source": [
    "df_memory.printSchema()"
   ]
  },
  {
   "cell_type": "code",
   "execution_count": 13,
   "metadata": {},
   "outputs": [
    {
     "name": "stdout",
     "output_type": "stream",
     "text": [
      "root\n",
      " |-- ts: integer (nullable = true)\n",
      " |-- PID: integer (nullable = true)\n",
      " |-- TRUN: integer (nullable = true)\n",
      " |-- TSLPI: integer (nullable = true)\n",
      " |-- TSLPU: integer (nullable = true)\n",
      " |-- POLI: string (nullable = true)\n",
      " |-- NICE: integer (nullable = true)\n",
      " |-- PRI: integer (nullable = true)\n",
      " |-- RTPR: integer (nullable = true)\n",
      " |-- CPUNR: integer (nullable = true)\n",
      " |-- Status: string (nullable = true)\n",
      " |-- EXC: integer (nullable = true)\n",
      " |-- State: string (nullable = true)\n",
      " |-- CPU: double (nullable = true)\n",
      " |-- CMD: string (nullable = true)\n",
      " |-- attack: integer (nullable = true)\n",
      " |-- type: string (nullable = true)\n",
      "\n"
     ]
    }
   ],
   "source": [
    "df_process.printSchema()"
   ]
  },
  {
   "cell_type": "code",
   "execution_count": 14,
   "metadata": {},
   "outputs": [],
   "source": [
    "#### cache dataframes \n",
    "\n",
    "df_memory = df_memory.cache()\n",
    "df_process = df_process.cache()"
   ]
  },
  {
   "cell_type": "code",
   "execution_count": 15,
   "metadata": {},
   "outputs": [
    {
     "name": "stdout",
     "output_type": "stream",
     "text": [
      "2000000\n",
      "1927968\n"
     ]
    }
   ],
   "source": [
    "####  print number of rows \n",
    "\n",
    "print(df_memory.count())\n",
    "\n",
    "print(df_process.count())"
   ]
  },
  {
   "cell_type": "markdown",
   "metadata": {},
   "source": [
    "### 1.2.2 "
   ]
  },
  {
   "cell_type": "code",
   "execution_count": 16,
   "metadata": {},
   "outputs": [
    {
     "name": "stdout",
     "output_type": "stream",
     "text": [
      "+---+---+------+------+------+-----+-----+-----+-----+---+---+------+----+\n",
      "| ts|PID|MINFLT|MAJFLT|VSTEXT|VSIZE|RSIZE|VGROW|RGROW|MEM|CMD|attack|type|\n",
      "+---+---+------+------+------+-----+-----+-----+-----+---+---+------+----+\n",
      "|  0|  0|     0|     0|     0|    0|    0|    0|    0|  0|  0|     0|   0|\n",
      "+---+---+------+------+------+-----+-----+-----+-----+---+---+------+----+\n",
      "\n",
      "+---+---+----+-----+-----+----+----+---+----+-----+------+---+-----+---+---+------+----+\n",
      "| ts|PID|TRUN|TSLPI|TSLPU|POLI|NICE|PRI|RTPR|CPUNR|Status|EXC|State|CPU|CMD|attack|type|\n",
      "+---+---+----+-----+-----+----+----+---+----+-----+------+---+-----+---+---+------+----+\n",
      "|  0|  0|   0|    0|    0|   0|   0|  0|   0|    0|     0|  0|    0|  0|  0|     0|   0|\n",
      "+---+---+----+-----+-----+----+----+---+----+-----+------+---+-----+---+---+------+----+\n",
      "\n"
     ]
    }
   ],
   "source": [
    "##### checking for any null values and print the no of null values\n",
    "df_memory.select([count(when(col(c).isNull(), c)).alias(c) for c in df_memory.columns]).show()\n",
    "\n",
    "\n",
    "df_process.select([count(when(col(c).isNull(), c)).alias(c) for c in df_process.columns]).show()"
   ]
  },
  {
   "cell_type": "code",
   "execution_count": 17,
   "metadata": {},
   "outputs": [],
   "source": [
    "df_memory = df_memory.withColumn(\"MINFLT\", regexp_replace(\"MINFLT\", 'K', '000'))\n",
    "\n",
    "df_memory = df_memory.withColumn(\"MAJFLT\", regexp_replace(\"MAJFLT\", 'K', '000'))\n",
    "df_memory = df_memory.withColumn(\"MAJFLT\", regexp_replace(\"MAJFLT\", '224.2M', '224200000'))\n",
    "\n",
    "df_memory = df_memory.withColumn(\"VSTEXT\", regexp_replace(\"VSTEXT\", 'K', '000'))\n",
    "df_memory = df_memory.withColumn(\"VSTEXT\", regexp_replace(\"VSTEXT\", '224.2M', '224200000'))\n",
    "\n",
    "df_memory = df_memory.withColumn(\"RSIZE\", regexp_replace(\"RSIZE\", 'K', '000'))\n",
    "df_memory = df_memory.withColumn(\"RSIZE\", regexp_replace(\"RSIZE\", '224.2M', '224200000'))\n",
    "\n",
    "df_memory = df_memory.withColumn(\"VGROW\", regexp_replace(\"VGROW\", 'K', '000'))\n",
    "df_memory = df_memory.withColumn(\"VGROW\", regexp_replace(\"VGROW\", ' ',''))\n",
    "df_memory = df_memory.withColumn(\"VGROW\", regexp_replace(\"VGROW\", '224.2M', '224200000'))\n",
    "\n",
    "\n",
    "df_memory = df_memory.withColumn(\"RGROW\", regexp_replace(\"RGROW\", 'K', '000'))\n",
    "df_memory = df_memory.withColumn(\"RGROW\", regexp_replace(\"RGROW\", '224.2M', '224200000'))\n",
    "\n",
    "\n",
    "\n",
    "\n",
    "\n"
   ]
  },
  {
   "cell_type": "code",
   "execution_count": 18,
   "metadata": {},
   "outputs": [],
   "source": [
    "#### converting the below columns to appropriaye datatype as per metadata\n",
    "\n",
    "df_memory = df_memory.withColumn(\"MINFLT\", df_memory[\"MINFLT\"].cast(DoubleType()))\n",
    "df_memory = df_memory.withColumn(\"MAJFLT\", df_memory[\"MAJFLT\"].cast(DoubleType()))\n",
    "df_memory = df_memory.withColumn(\"VSTEXT\", df_memory[\"VSTEXT\"].cast(DoubleType()))\n",
    "df_memory = df_memory.withColumn(\"RSIZE\", df_memory[\"RSIZE\"].cast(DoubleType()))\n",
    "df_memory = df_memory.withColumn(\"VGROW\",df_memory[\"VGROW\"].cast(DoubleType()))\n",
    "df_memory = df_memory.withColumn(\"RGROW\",df_memory[\"RGROW\"].cast(DoubleType()))\n",
    "\n",
    "\n",
    "\n",
    "\n",
    "\n",
    "\n",
    "\n"
   ]
  },
  {
   "cell_type": "code",
   "execution_count": 19,
   "metadata": {},
   "outputs": [
    {
     "name": "stdout",
     "output_type": "stream",
     "text": [
      "+---+---+------+------+------+-----+-----+-----+-----+---+---+------+----+\n",
      "| ts|PID|MINFLT|MAJFLT|VSTEXT|VSIZE|RSIZE|VGROW|RGROW|MEM|CMD|attack|type|\n",
      "+---+---+------+------+------+-----+-----+-----+-----+---+---+------+----+\n",
      "|  0|  0|     0|  2626|     0|    0|    3|    0|    0|  0|  0|     0|   0|\n",
      "+---+---+------+------+------+-----+-----+-----+-----+---+---+------+----+\n",
      "\n"
     ]
    }
   ],
   "source": [
    "df_memory.select([count(when(col(c).isNull(), c)).alias(c) for c in df_memory.columns]).show()\n",
    "#### check for null values "
   ]
  },
  {
   "cell_type": "code",
   "execution_count": null,
   "metadata": {},
   "outputs": [],
   "source": [
    "\n"
   ]
  },
  {
   "cell_type": "markdown",
   "metadata": {},
   "source": [
    "# 1.3"
   ]
  },
  {
   "cell_type": "markdown",
   "metadata": {},
   "source": [
    "###  1.3.1"
   ]
  },
  {
   "cell_type": "code",
   "execution_count": 20,
   "metadata": {},
   "outputs": [
    {
     "name": "stdout",
     "output_type": "stream",
     "text": [
      "+------+-------+\n",
      "|attack|  count|\n",
      "+------+-------+\n",
      "|     1| 205623|\n",
      "|     0|1794377|\n",
      "+------+-------+\n",
      "\n",
      "+------+-------+\n",
      "|attack|  count|\n",
      "+------+-------+\n",
      "|     1| 291364|\n",
      "|     0|1636604|\n",
      "+------+-------+\n",
      "\n"
     ]
    }
   ],
   "source": [
    "#### count no of attacks and no attacks from each activity  i.e memory and process\n",
    "\n",
    "df_memory.groupBy(\"attack\").count().show()\n",
    "\n",
    "\n",
    "df_process.groupBy(\"attack\").count().show()\n"
   ]
  },
  {
   "cell_type": "code",
   "execution_count": 21,
   "metadata": {},
   "outputs": [
    {
     "name": "stdout",
     "output_type": "stream",
     "text": [
      "+---------+-------+\n",
      "|     type|  count|\n",
      "+---------+-------+\n",
      "| password|  26016|\n",
      "|     ddos|  45689|\n",
      "|   normal|1794377|\n",
      "|     mitm|    112|\n",
      "|injection|  58523|\n",
      "|      dos|  75283|\n",
      "+---------+-------+\n",
      "\n",
      "+---------+-------+\n",
      "|     type|  count|\n",
      "+---------+-------+\n",
      "|      xss|  17759|\n",
      "| password|  51409|\n",
      "| scanning|  38449|\n",
      "|     ddos|  71603|\n",
      "|   normal|1636604|\n",
      "|     mitm|    112|\n",
      "|injection|  41311|\n",
      "|      dos|  70721|\n",
      "+---------+-------+\n",
      "\n"
     ]
    }
   ],
   "source": [
    "#### count no of different types  attacks from each activity  i.e memory and process\n",
    "\n",
    "df_memory.groupBy(\"type\").count().show()\n",
    "\n",
    "\n",
    "df_process.groupBy(\"type\").count().show()\n"
   ]
  },
  {
   "cell_type": "markdown",
   "metadata": {},
   "source": [
    "###  1.3.2"
   ]
  },
  {
   "cell_type": "code",
   "execution_count": null,
   "metadata": {},
   "outputs": [],
   "source": []
  },
  {
   "cell_type": "code",
   "execution_count": 22,
   "metadata": {},
   "outputs": [
    {
     "name": "stdout",
     "output_type": "stream",
     "text": [
      "['ts', 'PID', 'MINFLT', 'MAJFLT', 'VSTEXT', 'VSIZE', 'RSIZE', 'VGROW', 'RGROW', 'MEM']\n",
      "['CMD']\n",
      "['ts', 'PID', 'TRUN', 'TSLPI', 'TSLPU', 'NICE', 'PRI', 'RTPR', 'CPUNR', 'EXC', 'CPU']\n",
      "['POLI', 'Status', 'State', 'CMD']\n"
     ]
    }
   ],
   "source": [
    "## dividing numerical and categorical into different daatframes for each process\n",
    "# Activity: Memory \n",
    "\n",
    "mem_num_cols = [x.name for x in df_memory.schema.fields if isinstance(x.dataType, StringType) == False and x.name != 'attack']\n",
    "\n",
    "# check datatype of each column and select only numerical columns\n",
    "\n",
    "\n",
    "mem_cat_cols = [x for x in df_memory.columns if x not in mem_num_cols and x != \"attack\" and x != 'type']\n",
    "\n",
    "# select a list of columns not in the numerical column list from the list of all columns\n",
    "\n",
    "# Activity: Process \n",
    "\n",
    "proc_num_cols = [x.name for x in df_process.schema.fields if isinstance(x.dataType, StringType) == False and x.name != 'attack']\n",
    "\n",
    "\n",
    "proc_cat_cols = [x for x in df_process.columns if x not in proc_num_cols and x != \"attack\" and x != 'type']\n",
    "\n",
    "print(mem_num_cols ,mem_cat_cols,proc_num_cols,proc_cat_cols,sep ='\\n')"
   ]
  },
  {
   "cell_type": "code",
   "execution_count": 23,
   "metadata": {},
   "outputs": [
    {
     "name": "stdout",
     "output_type": "stream",
     "text": [
      "+-------+------------------+-----------------+------------------+--------------------+-----------------+-----------------+------------------+-----------------+-----------------+--------------------+\n",
      "|summary|                ts|              PID|            MINFLT|              MAJFLT|           VSTEXT|            VSIZE|             RSIZE|            VGROW|            RGROW|                 MEM|\n",
      "+-------+------------------+-----------------+------------------+--------------------+-----------------+-----------------+------------------+-----------------+-----------------+--------------------+\n",
      "|  count|           2000000|          2000000|           2000000|             1997374|          2000000|          2000000|           1999997|          2000000|          2000000|             2000000|\n",
      "|   mean|1.55624581707609E9|      4999.360446|        983.344344|   694120.7678954597|46453.27415209577| 4496.41996645148|23386.323743685076|984.4668735599992|     483.17466255|0.003385164999998...|\n",
      "| stddev| 984463.3682959927|4887.313351921472|19229.610980642246|1.2445575066960871E7|658730.2051543042|9046.338093398988|1967284.0986853342|86174.82585202335|1491.476105917186|0.010943425779985815|\n",
      "|    min|        1554216855|             1007|               0.0|                 0.0|              0.0|              0.0|           -9728.0|       -9392000.0|              0.0|                 0.0|\n",
      "|    max|        1558355716|            53096|         8050000.0|             2.242E8|           1.12E7|          88040.0|           2.242E8|          1.116E7|          98920.0|                0.44|\n",
      "+-------+------------------+-----------------+------------------+--------------------+-----------------+-----------------+------------------+-----------------+-----------------+--------------------+\n",
      "\n",
      "+-------+--------------------+-----------------+-------------------+-----------------+--------------------+-----------------+------------------+-------+------------------+--------------------+--------------------+\n",
      "|summary|                  ts|              PID|               TRUN|            TSLPI|               TSLPU|             NICE|               PRI|   RTPR|             CPUNR|                 EXC|                 CPU|\n",
      "+-------+--------------------+-----------------+-------------------+-----------------+--------------------+-----------------+------------------+-------+------------------+--------------------+--------------------+\n",
      "|  count|             1927968|          1927968|            1927968|          1927968|             1927968|          1927968|           1927968|1927968|           1927968|             1927968|             1927968|\n",
      "|   mean|1.5563198311840394E9|5068.709770597852| 0.0632287465352122|3.508334163222626|3.610018423542299...|4.634469555511295|111.26826741937626|    0.0|1.9210142491991569|0.030275398761805176|0.022385272992097086|\n",
      "| stddev|   771350.0248108993|4987.784329320486|0.24782587090416094|6.988459728531782|0.044218744192145866|8.403189864752054|22.624445062103003|    0.0|1.5274047225902923|  1.4619498567691809| 0.13628943687184217|\n",
      "|    min|          1554216855|             1007|                  0|                0|                   0|                0|                 0|      0|                 0|                   0|                 0.0|\n",
      "|    max|          1557593017|            53080|                 12|               70|                  21|               20|               139|      0|                 5|                 127|                4.02|\n",
      "+-------+--------------------+-----------------+-------------------+-----------------+--------------------+-----------------+------------------+-------+------------------+--------------------+--------------------+\n",
      "\n"
     ]
    }
   ],
   "source": [
    "##Create dataframes of numerical and categorical columns for each activity \n",
    "### STATISTICS FOR NUMERICAL COLUMNS FOR EACH ACTIVITY#\n",
    "\n",
    "df_memory_num  = df_memory[mem_num_cols]\n",
    "\n",
    "df_process_num = df_process[proc_num_cols]\n",
    "\n",
    "df_memory_num.describe().show()\n",
    "\n",
    "df_process_num.describe().show()"
   ]
  },
  {
   "cell_type": "code",
   "execution_count": 24,
   "metadata": {},
   "outputs": [
    {
     "name": "stdout",
     "output_type": "stream",
     "text": [
      "+--------------+-----+\n",
      "|           CMD|count|\n",
      "+--------------+-----+\n",
      "|        <kmod>|    6|\n",
      "|         jfsIO|13619|\n",
      "|kworker/4:2-mm|  147|\n",
      "|     <dumpcap>|   18|\n",
      "|        <fsck>|  192|\n",
      "|    <basename>|   45|\n",
      "|<kworker/dyin>|  603|\n",
      "|<rsyslog-rota>|    3|\n",
      "|ibus-extension| 5788|\n",
      "|       <iconv>|    1|\n",
      "+--------------+-----+\n",
      "only showing top 10 rows\n",
      "\n",
      "+----+-------+\n",
      "|POLI|  count|\n",
      "+----+-------+\n",
      "|norm|1861558|\n",
      "|   0|  53216|\n",
      "|   -|  13194|\n",
      "+----+-------+\n",
      "\n",
      "+------+-------+\n",
      "|Status|  count|\n",
      "+------+-------+\n",
      "|    NS|    743|\n",
      "|     0| 438984|\n",
      "|    NE|  48602|\n",
      "|    NC|      1|\n",
      "|     C|      3|\n",
      "|     -|1416322|\n",
      "|     N|  23313|\n",
      "+------+-------+\n",
      "\n",
      "+-----+-------+\n",
      "|State|  count|\n",
      "+-----+-------+\n",
      "|    E|  66410|\n",
      "|    T|      7|\n",
      "|    D|    344|\n",
      "|    Z|   1118|\n",
      "|    S|1676350|\n",
      "|    R|  84753|\n",
      "|    I|  98986|\n",
      "+-----+-------+\n",
      "\n",
      "+--------------+-----+\n",
      "|           CMD|count|\n",
      "+--------------+-----+\n",
      "|        <kmod>|    6|\n",
      "|         jfsIO|    2|\n",
      "|kworker/4:2-mm|  510|\n",
      "|     <dumpcap>|   18|\n",
      "|        <fsck>|  192|\n",
      "|    <basename>|   47|\n",
      "|<kworker/dyin>| 1325|\n",
      "|<rsyslog-rota>|    4|\n",
      "|kworker/4:2-ev|   94|\n",
      "|ibus-extension|  213|\n",
      "+--------------+-----+\n",
      "only showing top 10 rows\n",
      "\n"
     ]
    }
   ],
   "source": [
    "#### Statistics of categorical columns \n",
    "\n",
    "df_memory_cat  = df_memory[mem_cat_cols]\n",
    "\n",
    "df_process_cat = df_process[proc_cat_cols]\n",
    "\n",
    "for i in df_memory_cat.columns:\n",
    "    df_memory_cat.select(i).groupBy(i).count().show(10)\n",
    "    \n",
    "    \n",
    "for i in df_process_cat.columns:\n",
    "    df_process_cat.select(i).groupBy(i).count().show(10)"
   ]
  },
  {
   "cell_type": "markdown",
   "metadata": {},
   "source": [
    "### 1.3.3"
   ]
  },
  {
   "cell_type": "code",
   "execution_count": 25,
   "metadata": {},
   "outputs": [
    {
     "data": {
      "text/plain": [
       "<AxesSubplot:>"
      ]
     },
     "execution_count": 25,
     "metadata": {},
     "output_type": "execute_result"
    },
    {
     "data": {
      "image/png": "[encoded data removed]",
      "text/plain": [
       "<Figure size 432x288 with 2 Axes>"
      ]
     },
     "metadata": {
      "needs_background": "light"
     },
     "output_type": "display_data"
    }
   ],
   "source": [
    "##### VISUALIZATION \n",
    "###  Correlation heat map matrix of  columns for each ACTIVITY to show correlation between target and factor variables \n",
    "\n",
    "\n",
    "\n",
    "#### Activity : Memory\n",
    "\n",
    "\n",
    "#! pip install seaborn       # install seaborn package for visualization\n",
    "import pandas as pd\n",
    "import seaborn as sns\n",
    "df_memory_pandas = df_memory.toPandas()          # convert to pandas dataframe for plotting\n",
    "df_memory_pandas_sample = df_memory_pandas.sample(10000)  #sample the dataframe for easier plotting \n",
    "correlations = df_memory_pandas_sample.corr()\n",
    "#print(correlations)         # print correlation matrix \n",
    "sns.heatmap(correlations)\n",
    "\n",
    "\n",
    "\n",
    "\n",
    "\n"
   ]
  },
  {
   "cell_type": "code",
   "execution_count": 26,
   "metadata": {},
   "outputs": [
    {
     "data": {
      "text/plain": [
       "<AxesSubplot:>"
      ]
     },
     "execution_count": 26,
     "metadata": {},
     "output_type": "execute_result"
    },
    {
     "data": {
      "image/png": "[encoded data removed]",
      "text/plain": [
       "<Figure size 432x288 with 2 Axes>"
      ]
     },
     "metadata": {
      "needs_background": "light"
     },
     "output_type": "display_data"
    }
   ],
   "source": [
    "#### Activity : Process\n",
    "\n",
    "import seaborn as sns\n",
    "\n",
    "df_process_pandas = df_process.toPandas()          # convert to pandas dataframe for plotting\n",
    "df_process_pandas_sample = df_process_pandas.sample(10000)  #sample the dataframe for easier plotting \n",
    "correlations_1 = df_process_pandas_sample.corr()\n",
    "#print(correlations)         # print correlation matrix \n",
    "sns.heatmap(correlations_1)\n",
    "\n"
   ]
  },
  {
   "cell_type": "markdown",
   "metadata": {},
   "source": [
    "### Activity : Memory\n",
    "In the above correlation heat map  we find that all columns are equally correlated to target variable \"attack\" , however we find that  column \"MAJFLT\" and column \"VSTEXT\" are highly correlated with each other . There is significant  correlation between \"ts\" and \"PID\" and also between columns \"RSIZE\" and \"VGROW\" \n",
    "\n",
    "### Activity : Process\n",
    "In the second heatmap we find that there is  significant correlation between column \"CPU\" and \"TRUN\""
   ]
  },
  {
   "cell_type": "markdown",
   "metadata": {},
   "source": [
    "# Grouped Bar plots for analysis of categorical variables\n"
   ]
  },
  {
   "cell_type": "code",
   "execution_count": 27,
   "metadata": {},
   "outputs": [
    {
     "data": {
      "image/png": "[encoded data removed]",
      "text/plain": [
       "<Figure size 432x288 with 1 Axes>"
      ]
     },
     "metadata": {
      "needs_background": "light"
     },
     "output_type": "display_data"
    }
   ],
   "source": [
    "df_bar_graph = df_memory.select(\"CMD\",\"attack\").sample(False , .00001 , 1234).groupBy(\"CMD\",\"attack\").count()\n",
    "df_bar_graph_new = df_bar_graph.toPandas()\n",
    "df_bar_graph_new.pivot(\"attack\", \"CMD\", \"count\").plot(kind='bar')\n",
    "\n",
    "plt.show()"
   ]
  },
  {
   "cell_type": "code",
   "execution_count": 28,
   "metadata": {
    "scrolled": true
   },
   "outputs": [
    {
     "data": {
      "image/png": "[encoded data removed]",
      "text/plain": [
       "<Figure size 432x288 with 1 Axes>"
      ]
     },
     "metadata": {
      "needs_background": "light"
     },
     "output_type": "display_data"
    }
   ],
   "source": [
    "df_bar_graph_1 = df_process.select(\"State\",\"attack\").sample(False , .05 , 1234).groupBy(\"State\",\"attack\").count()\n",
    "df_bar_graph_new_1 = df_bar_graph_1.toPandas()\n",
    "df_bar_graph_new_1.pivot(\"attack\", \"State\", \"count\").plot(kind='bar')\n",
    "\n",
    "plt.show()"
   ]
  },
  {
   "cell_type": "markdown",
   "metadata": {},
   "source": [
    "This plot shows that processes in sleeping state \"S\" was associated with attacks"
   ]
  },
  {
   "cell_type": "markdown",
   "metadata": {},
   "source": [
    "# 2  :    Feature extraction and ML Training"
   ]
  },
  {
   "cell_type": "markdown",
   "metadata": {},
   "source": [
    "###  2.1    :   Preparing the training and testing data"
   ]
  },
  {
   "cell_type": "markdown",
   "metadata": {},
   "source": [
    "### 2.1.1"
   ]
  },
  {
   "cell_type": "code",
   "execution_count": 29,
   "metadata": {},
   "outputs": [],
   "source": [
    "### splitting training and testing data for each activity : \n",
    "\n",
    "## Activity :  Memory \n",
    "\n",
    "memory_train, memory_test = df_memory.randomSplit([0.8, 0.2])"
   ]
  },
  {
   "cell_type": "code",
   "execution_count": 30,
   "metadata": {},
   "outputs": [
    {
     "name": "stdout",
     "output_type": "stream",
     "text": [
      "+------+-------+\n",
      "|attack|  count|\n",
      "+------+-------+\n",
      "|     1| 164321|\n",
      "|     0|1434896|\n",
      "+------+-------+\n",
      "\n"
     ]
    }
   ],
   "source": [
    "memory_train.groupBy(\"attack\").count().show()"
   ]
  },
  {
   "cell_type": "markdown",
   "metadata": {},
   "source": [
    "#### 2.1.2 Rebalancing the training data for each activity , Activity : Memory"
   ]
  },
  {
   "cell_type": "code",
   "execution_count": 31,
   "metadata": {},
   "outputs": [],
   "source": [
    "### In order to rebalance training data , we first split the original dataframe by 80/20 on train and test \n",
    "##  we then subset  the training  data into \"attack\" and \"non attack\" dataframes \n",
    "# we then sample randomly for 20% of the dataframe containing \" attack\" rows and to maintain 1:2 ratio, we have twice the number of \"attack records \""
   ]
  },
  {
   "cell_type": "code",
   "execution_count": 32,
   "metadata": {},
   "outputs": [
    {
     "name": "stdout",
     "output_type": "stream",
     "text": [
      "164321\n"
     ]
    }
   ],
   "source": [
    "# create dataframe for attack records only \n",
    "df_attack_memory = memory_train.filter(memory_train[\"attack\"] == 1)\n",
    "print(df_attack_memory.count())"
   ]
  },
  {
   "cell_type": "code",
   "execution_count": 33,
   "metadata": {},
   "outputs": [
    {
     "name": "stdout",
     "output_type": "stream",
     "text": [
      "33050\n"
     ]
    }
   ],
   "source": [
    "df_attack_memory_sample = df_attack_memory.sample(False , .2 , 1234)\n",
    "#print the no of records\n",
    "print(df_attack_memory_sample.count())"
   ]
  },
  {
   "cell_type": "code",
   "execution_count": 34,
   "metadata": {},
   "outputs": [
    {
     "name": "stdout",
     "output_type": "stream",
     "text": [
      "0.0460660563553038\n"
     ]
    }
   ],
   "source": [
    "### create dataframe for non attack records\n",
    "df_non_attack_memory = memory_train.filter(memory_train[\"attack\"] == 0)\n",
    "\n",
    "sampling_ratio = (df_attack_memory_sample.count()*2)/(df_non_attack_memory.count())   ### since 1:2 ratio of attack and non attack find the req ratio of sampling of \"non attack\"  records dataframe  \n",
    "#sampling_ratio = round(sampling_ratio,2)\n",
    "print(sampling_ratio)"
   ]
  },
  {
   "cell_type": "code",
   "execution_count": 35,
   "metadata": {},
   "outputs": [
    {
     "name": "stdout",
     "output_type": "stream",
     "text": [
      "71730\n"
     ]
    }
   ],
   "source": [
    "### now sample the \"non attack dataframe\" \n",
    "df_non_attack_memory_sample = df_non_attack_memory.sample(False ,0.05, 124)\n",
    "#print the no of records to check if they are in 1:2 ratio\n",
    "print(df_non_attack_memory_sample.count())"
   ]
  },
  {
   "cell_type": "code",
   "execution_count": 36,
   "metadata": {},
   "outputs": [
    {
     "name": "stdout",
     "output_type": "stream",
     "text": [
      "+------+-----+\n",
      "|attack|count|\n",
      "+------+-----+\n",
      "|     1|33050|\n",
      "|     0|71730|\n",
      "+------+-----+\n",
      "\n"
     ]
    }
   ],
   "source": [
    "train_memory = df_attack_memory_sample.unionAll(df_non_attack_memory_sample)   # final rebalanced training data\n",
    "train_memory.groupBy(\"attack\").count().show()           #### print to check if the attack and non attack events are close in 1:2 ratio"
   ]
  },
  {
   "cell_type": "markdown",
   "metadata": {},
   "source": [
    "#### Rebalance training data for activity: Process"
   ]
  },
  {
   "cell_type": "code",
   "execution_count": 37,
   "metadata": {},
   "outputs": [],
   "source": [
    "process_train, process_test = df_process.randomSplit([0.8, 0.2])"
   ]
  },
  {
   "cell_type": "code",
   "execution_count": 38,
   "metadata": {},
   "outputs": [
    {
     "name": "stdout",
     "output_type": "stream",
     "text": [
      "+------+-------+\n",
      "|attack|  count|\n",
      "+------+-------+\n",
      "|     1| 233199|\n",
      "|     0|1309386|\n",
      "+------+-------+\n",
      "\n"
     ]
    }
   ],
   "source": [
    "process_train.groupBy(\"attack\").count().show()"
   ]
  },
  {
   "cell_type": "code",
   "execution_count": 39,
   "metadata": {},
   "outputs": [
    {
     "data": {
      "text/plain": [
       "385383"
      ]
     },
     "execution_count": 39,
     "metadata": {},
     "output_type": "execute_result"
    }
   ],
   "source": [
    "process_test.count()"
   ]
  },
  {
   "cell_type": "code",
   "execution_count": 40,
   "metadata": {},
   "outputs": [
    {
     "name": "stdout",
     "output_type": "stream",
     "text": [
      "233199\n"
     ]
    }
   ],
   "source": [
    "# create dataframe for attack records only \n",
    "df_attack_process = process_train.filter(process_train[\"attack\"] == 1)\n",
    "print(df_attack_process.count())"
   ]
  },
  {
   "cell_type": "code",
   "execution_count": 41,
   "metadata": {},
   "outputs": [
    {
     "name": "stdout",
     "output_type": "stream",
     "text": [
      "46921\n"
     ]
    }
   ],
   "source": [
    "df_attack_process_sample = df_attack_process.sample(False , .2 , 144)\n",
    "#print the no of records\n",
    "print(df_attack_process_sample.count())"
   ]
  },
  {
   "cell_type": "code",
   "execution_count": 42,
   "metadata": {},
   "outputs": [
    {
     "name": "stdout",
     "output_type": "stream",
     "text": [
      "0.07166870579034754\n"
     ]
    }
   ],
   "source": [
    "### create dataframe for non attack records\n",
    "df_non_attack_process = process_train.filter(process_train[\"attack\"] == 0)\n",
    "\n",
    "sampling_ratio_1= (df_attack_process_sample.count()*2)/(df_non_attack_process.count())   ### since 1:2 ratio of attack and non attack find the req ratio of sampling of \"non attack\"  records dataframe  \n",
    "#sampling_ratio = round(sampling_ratio,2)\n",
    "print(sampling_ratio_1)"
   ]
  },
  {
   "cell_type": "code",
   "execution_count": 43,
   "metadata": {},
   "outputs": [
    {
     "name": "stdout",
     "output_type": "stream",
     "text": [
      "91613\n"
     ]
    }
   ],
   "source": [
    "### now sample the \"non attack dataframe\" \n",
    "df_non_attack_process_sample = df_non_attack_process.sample(False ,0.07, 1234)\n",
    "#print the no of records to check if they are in 1:2 ratio\n",
    "print(df_non_attack_process_sample.count())"
   ]
  },
  {
   "cell_type": "code",
   "execution_count": 44,
   "metadata": {},
   "outputs": [
    {
     "name": "stdout",
     "output_type": "stream",
     "text": [
      "+------+-----+\n",
      "|attack|count|\n",
      "+------+-----+\n",
      "|     1|46921|\n",
      "|     0|91613|\n",
      "+------+-----+\n",
      "\n"
     ]
    }
   ],
   "source": [
    "train_process = df_attack_process_sample.unionAll(df_non_attack_process_sample)   # final rebalanced training data\n",
    "train_process.groupBy(\"attack\").count().show()           #### print to check if the attack and non attack events are close in 1:2 ratio"
   ]
  },
  {
   "cell_type": "markdown",
   "metadata": {},
   "source": [
    "# 2.2 : Preparing features , labels and models"
   ]
  },
  {
   "cell_type": "markdown",
   "metadata": {},
   "source": [
    "### 2.2.1 "
   ]
  },
  {
   "cell_type": "markdown",
   "metadata": {},
   "source": [
    "### Activity : Memory\n",
    "For this activity , we drop one of the columns which are highly correlated with each other and we drop column \"CMD\" as it is a categorical variable with different names of processes which is not very useful. we drop columns \" VGROW\" , \"MAJFLT\" as they are highly correlated with columns \"RSIZE\" \"VSTEXT \" RESPECTIVELY .We also drop column \"PID\" because it a random unique number generated for each process  and does not make sense as a feature .  we also drop \"ts\" because it the timme at whihc the process was started.\n",
    "\n",
    "Scaling and Transformation: In this process we scale \"MINFLT\" ,\"RSIZE\" AND \"VSEXT\" by dividing the values by 1000 . No transformation required \n",
    "\n",
    "### Activity : Process \n",
    "We drop columns \"PID\" , \" ts\" and \"CMD\" as they are not relevant . We also drop \"RTPR\"  the entire column has value zeros . We also drop column \"CPU\" since it is signifacantly correlated with \"TRUN\"\n",
    "\n",
    "Scaling and Transformation : No scaling required however , we need to use string indexers and one hot encoding on categorical columns \"POLI\" , \"state\" , \"status\" \n"
   ]
  },
  {
   "cell_type": "markdown",
   "metadata": {},
   "source": [
    "### 2.2.2"
   ]
  },
  {
   "cell_type": "markdown",
   "metadata": {},
   "source": [
    "### Pipline setup for each activity\n",
    "\n",
    "## 1) Activity :  Memory  , Pipeline_1 : Decision tree"
   ]
  },
  {
   "cell_type": "code",
   "execution_count": 38,
   "metadata": {},
   "outputs": [],
   "source": [
    "# creating two seperate pipelines in stages\n",
    "\n",
    "from pyspark.ml import Pipeline                  # import modules required\n",
    "from pyspark.ml.feature import StringIndexer\n",
    "from pyspark.ml.linalg import Vectors\n",
    "from pyspark.ml.feature import VectorAssembler\n",
    "from pyspark.ml.feature import OneHotEncoder\n",
    "from pyspark.ml.feature import StringIndexer\n",
    "from pyspark.ml.feature import MinMaxScaler"
   ]
  },
  {
   "cell_type": "code",
   "execution_count": 39,
   "metadata": {},
   "outputs": [],
   "source": [
    "\n",
    "## prepare pipeline \n",
    "\n",
    "\n",
    "inputCols= ['MINFLT', 'VSTEXT', 'VSIZE', 'RSIZE', 'RGROW', 'MEM']                   # give considered input cols\n",
    "vec_ass = VectorAssembler(inputCols = inputCols ,outputCol=\"features\")        # combine all numerical columns into one vector\n",
    "\n",
    "\n",
    "scaler = MinMaxScaler(inputCol=\"features\", outputCol=\"features_scaled\")\n",
    "\n",
    "\n",
    "from pyspark.ml.classification import DecisionTreeClassifier\n",
    "\n",
    "# Extracts the number of nodes in the decision tree and the tree depth in the model and stores it in dt.\n",
    "\n",
    "stage_decision_tree = DecisionTreeClassifier(featuresCol = 'features_scaled', labelCol = 'attack', maxDepth = 3)\n",
    "\n"
   ]
  },
  {
   "cell_type": "code",
   "execution_count": 40,
   "metadata": {},
   "outputs": [],
   "source": [
    "pipeline_1_m = Pipeline(stages=[vec_ass,scaler,stage_decision_tree])\n",
    "model_dt_m = pipeline_1_m.fit(train_memory)\n",
    "# Make predictions on test documents and print columns of interest.\n",
    "pred_dt_m = model_dt_m.transform(memory_test)\n",
    "\n"
   ]
  },
  {
   "cell_type": "code",
   "execution_count": 41,
   "metadata": {},
   "outputs": [
    {
     "name": "stdout",
     "output_type": "stream",
     "text": [
      "+------+----------+------+\n",
      "|attack|prediction| count|\n",
      "+------+----------+------+\n",
      "|     1|       0.0| 38171|\n",
      "|     0|       0.0|353576|\n",
      "|     1|       1.0|  3093|\n",
      "|     0|       1.0|  4583|\n",
      "+------+----------+------+\n",
      "\n",
      "Decision Tree metrics\n",
      "Accuracy: 0.8929605956592385\n",
      "Precision: 0.4029442417926003\n",
      "Recall: 0.0749563784412563\n",
      "F-1 Score: 0.12639967306906416\n"
     ]
    }
   ],
   "source": [
    "# Calculate the elements of the confusion matrix\n",
    "TN = pred_dt_m.filter('prediction = 0 AND attack = 0').count()\n",
    "TP = pred_dt_m.filter('prediction = 1 AND attack = 1').count()\n",
    "FN = pred_dt_m.filter('prediction = 0 AND attack = 1').count()#WRITE CODE to find the False Negative\n",
    "FP = pred_dt_m.filter('prediction = 1 AND attack = 0').count()#WRITE CODE to find the False Positive\n",
    "\n",
    "# show confusion matrix\n",
    "pred_dt_m.groupBy('attack', 'prediction').count().show()\n",
    "# calculate metrics by the confusion matrix\n",
    "accuracy = (TP+TN)/(TP+TN+FP+FN)#WRITE CODE : formula to find accuracy\n",
    "precision = TP/(TP+FP)#WRITE CODE : formula to find precision\n",
    "recall = TP/(TP+FN)#WRITE CODE : formula to find recall\n",
    "f1 = 2/((1/recall) + (1/precision))#WRITE CODE : formula to find F1-score\n",
    "\n",
    "#WRITE CODE : Display the various metrics calculated above\n",
    "print(\"Decision Tree metrics\")\n",
    "print(\"Accuracy: \" + str(accuracy))\n",
    "print(\"Precision: \" + str(precision))\n",
    "print(\"Recall: \" + str(recall))\n",
    "print(\"F-1 Score: \" + str(f1))"
   ]
  },
  {
   "cell_type": "markdown",
   "metadata": {},
   "source": [
    "## Pipeline_2 for Gradient Boosted Tree model , activity: memory"
   ]
  },
  {
   "cell_type": "code",
   "execution_count": 42,
   "metadata": {},
   "outputs": [],
   "source": [
    "from pyspark.ml.classification import GBTClassifier\n",
    "#Extracts the number of nodes in the decision tree and the tree depth in the model and stores it in dt.\n",
    "\n",
    "gbt_memory = GBTClassifier(featuresCol = 'features_scaled', labelCol = 'attack', maxIter = 5)\n"
   ]
  },
  {
   "cell_type": "code",
   "execution_count": 43,
   "metadata": {},
   "outputs": [],
   "source": [
    "pipeline_2_m = Pipeline(stages=[vec_ass,scaler,gbt_memory])\n",
    "model_gbt_m = pipeline_2_m.fit(train_memory)\n",
    "pred_gbt_m = model_gbt_m.transform(memory_test)"
   ]
  },
  {
   "cell_type": "code",
   "execution_count": 44,
   "metadata": {},
   "outputs": [
    {
     "name": "stdout",
     "output_type": "stream",
     "text": [
      "+------+----------+------+\n",
      "|attack|prediction| count|\n",
      "+------+----------+------+\n",
      "|     1|       0.0| 24327|\n",
      "|     0|       0.0|323215|\n",
      "|     1|       1.0| 16937|\n",
      "|     0|       1.0| 34944|\n",
      "+------+----------+------+\n",
      "\n",
      "Gradient boost Tree metrics\n",
      "Accuracy: 0.8516084451821753\n",
      "Precision: 0.3264586264721189\n",
      "Recall: 0.41045463357890655\n",
      "F-1 Score: 0.3636695474797359\n"
     ]
    }
   ],
   "source": [
    "# Calculate the elements of the confusion matrix\n",
    "TN = pred_gbt_m.filter('prediction = 0 AND attack = 0').count()\n",
    "TP = pred_gbt_m.filter('prediction = 1 AND attack = 1').count()\n",
    "FN = pred_gbt_m.filter('prediction = 0 AND attack = 1').count()#WRITE CODE to find the False Negative\n",
    "FP = pred_gbt_m.filter('prediction = 1 AND attack = 0').count()#WRITE CODE to find the False Positive\n",
    "\n",
    "# show confusion matrix\n",
    "pred_gbt_m.groupBy('attack', 'prediction').count().show()\n",
    "# calculate metrics by the confusion matrix\n",
    "accuracy = (TP+TN)/(TP+TN+FP+FN)#WRITE CODE : formula to find accuracy\n",
    "precision = TP/(TP+FP)#WRITE CODE : formula to find precision\n",
    "recall = TP/(TP+FN)#WRITE CODE : formula to find recall\n",
    "f1 = 2/((1/recall) + (1/precision))#WRITE CODE : formula to find F1-score\n",
    "\n",
    "#WRITE CODE : Display the various metrics calculated above\n",
    "print(\"Gradient boost Tree metrics\")\n",
    "print(\"Accuracy: \" + str(accuracy))\n",
    "print(\"Precision: \" + str(precision))\n",
    "print(\"Recall: \" + str(recall))\n",
    "print(\"F-1 Score: \" + str(f1))"
   ]
  },
  {
   "cell_type": "markdown",
   "metadata": {},
   "source": [
    "## 2) Activity :  Process  , Pipeline_1 : Decision tree"
   ]
  },
  {
   "cell_type": "code",
   "execution_count": 18,
   "metadata": {},
   "outputs": [],
   "source": [
    "input_columns_p = ['POLI','State']\n",
    "output_columns_p= [f'{x}_index' for x in input_columns_p]\n",
    "stage_1 = StringIndexer(inputCols = input_columns_p, outputCols = output_columns_p) \n",
    "\n",
    "inputCols_OHE = [x for x in output_columns_p]\n",
    "outputCols_OHE = [f'{x}_vec' for x in inputCols_OHE]\n",
    "stage_2 = OneHotEncoder(inputCols=inputCols_OHE,outputCols=outputCols_OHE)\n",
    "\n",
    "\n",
    "\n",
    "inputCols= [x for x in outputCols_OHE] + ['TRUN', 'TSLPI', 'TSLPU', 'NICE', 'PRI', 'CPUNR', 'EXC']\n",
    "stage_3 = VectorAssembler(inputCols=inputCols,outputCol=\"features\")\n",
    "\n",
    "\n",
    "scaler = MinMaxScaler(inputCol=\"features\", outputCol=\"features_scaled\")\n",
    "\n",
    "\n"
   ]
  },
  {
   "cell_type": "code",
   "execution_count": 19,
   "metadata": {},
   "outputs": [],
   "source": [
    "from pyspark.ml.classification import DecisionTreeClassifier\n",
    "\n",
    "# Extracts the number of nodes in the decision tree and the tree depth in the model and stores it in dt.\n",
    "\n",
    "stage_decision_tree = DecisionTreeClassifier(featuresCol = 'features_scaled', labelCol = 'attack', maxDepth = 3)\n"
   ]
  },
  {
   "cell_type": "markdown",
   "metadata": {},
   "source": [
    "## 2.3 \n",
    "\n",
    "### 2.3.1"
   ]
  },
  {
   "cell_type": "code",
   "execution_count": 20,
   "metadata": {},
   "outputs": [],
   "source": [
    "pipeline_1_p = Pipeline(stages=[stage_1,stage_2,stage_3,scaler,stage_decision_tree])\n",
    "model_dt_p= pipeline_1_p.fit(train_process)\n",
    "# Make predictions on test documents and print columns of interest.\n",
    "pred_dt_p = model_dt_p.transform(process_test)\n",
    "\n"
   ]
  },
  {
   "cell_type": "markdown",
   "metadata": {},
   "source": [
    "### 2.3.2"
   ]
  },
  {
   "cell_type": "code",
   "execution_count": 21,
   "metadata": {
    "scrolled": true
   },
   "outputs": [
    {
     "name": "stdout",
     "output_type": "stream",
     "text": [
      "+------+----------+------+\n",
      "|attack|prediction| count|\n",
      "+------+----------+------+\n",
      "|     1|       0.0| 56750|\n",
      "|     0|       0.0|324540|\n",
      "|     1|       1.0|  1641|\n",
      "|     0|       1.0|  3533|\n",
      "+------+----------+------+\n",
      "\n",
      "Accuracy: 0.8440139314399271\n",
      "Precision: 0.3171627367607267\n",
      "Recall: 0.028103646109845695\n",
      "F-1 Score: 0.05163218752458114\n"
     ]
    }
   ],
   "source": [
    "# Calculate the elements of the confusion matrix\n",
    "TN = pred_dt_p.filter('prediction = 0 AND attack = 0').count()\n",
    "TP = pred_dt_p.filter('prediction = 1 AND attack = 1').count()\n",
    "FN = pred_dt_p.filter('prediction = 0 AND attack = 1').count()#WRITE CODE to find the False Negative\n",
    "FP = pred_dt_p.filter('prediction = 1 AND attack = 0').count()#WRITE CODE to find the False Positive\n",
    "\n",
    "# show confusion matrix\n",
    "pred_dt_p.groupBy('attack', 'prediction').count().show()\n",
    "# calculate metrics by the confusion matrix\n",
    "accuracy = (TP+TN)/(TP+TN+FP+FN)#WRITE CODE : formula to find accuracy\n",
    "precision = TP/(TP+FP)#WRITE CODE : formula to find precision\n",
    "recall = TP/(TP+FN)#WRITE CODE : formula to find recall\n",
    "f1 = 2/((1/recall) + (1/precision))#WRITE CODE : formula to find F1-score\n",
    "\n",
    "#WRITE CODE : Display the various metrics calculated above\n",
    "print(\"Accuracy: \" + str(accuracy))\n",
    "print(\"Precision: \" + str(precision))\n",
    "print(\"Recall: \" + str(recall))\n",
    "print(\"F-1 Score: \" + str(f1))"
   ]
  },
  {
   "cell_type": "markdown",
   "metadata": {},
   "source": [
    "## Pipeline_2 for Gradient Boosted Tree model , activity: process"
   ]
  },
  {
   "cell_type": "code",
   "execution_count": 23,
   "metadata": {},
   "outputs": [],
   "source": [
    "from pyspark.ml.classification import GBTClassifier\n",
    "\n",
    "gbt_process = GBTClassifier(featuresCol = 'features_scaled', labelCol = 'attack', maxIter = 5)\n",
    "pipeline_2_p = Pipeline(stages=[stage_1,stage_2,stage_3,scaler,gbt_process])\n",
    "model_gbt_p= pipeline_2_p.fit(train_process)\n"
   ]
  },
  {
   "cell_type": "code",
   "execution_count": 24,
   "metadata": {},
   "outputs": [],
   "source": [
    "# Make predictions on test documents and print columns of interest.\n",
    "pred_gbt_p =  model_gbt_p.transform(process_test)"
   ]
  },
  {
   "cell_type": "code",
   "execution_count": 25,
   "metadata": {},
   "outputs": [
    {
     "name": "stdout",
     "output_type": "stream",
     "text": [
      "+------+----------+------+\n",
      "|attack|prediction| count|\n",
      "+------+----------+------+\n",
      "|     1|       0.0| 52708|\n",
      "|     0|       0.0|315186|\n",
      "|     1|       1.0|  5683|\n",
      "|     0|       1.0| 12887|\n",
      "+------+----------+------+\n",
      "\n",
      "Gradient boost Tree metrics\n",
      "Accuracy: 0.8302687960586238\n",
      "Precision: 0.30603123317178244\n",
      "Recall: 0.0973266428045418\n",
      "F-1 Score: 0.14768519120073803\n"
     ]
    }
   ],
   "source": [
    "# Calculate the elements of the confusion matrix\n",
    "TN = pred_gbt_p.filter('prediction = 0 AND attack = 0').count()\n",
    "TP = pred_gbt_p.filter('prediction = 1 AND attack = 1').count()\n",
    "FN = pred_gbt_p.filter('prediction = 0 AND attack = 1').count()#WRITE CODE to find the False Negative\n",
    "FP = pred_gbt_p.filter('prediction = 1 AND attack = 0').count()#WRITE CODE to find the False Positive\n",
    "\n",
    "# show confusion matrix\n",
    "pred_gbt_p.groupBy('attack', 'prediction').count().show()\n",
    "# calculate metrics by the confusion matrix\n",
    "accuracy = (TP+TN)/(TP+TN+FP+FN)#WRITE CODE : formula to find accuracy\n",
    "precision = TP/(TP+FP)#WRITE CODE : formula to find precision\n",
    "recall = TP/(TP+FN)#WRITE CODE : formula to find recall\n",
    "f1 = 2/((1/recall) + (1/precision))#WRITE CODE : formula to find F1-score\n",
    "\n",
    "#WRITE CODE : Display the various metrics calculated above\n",
    "print(\"Gradient boost Tree metrics\")\n",
    "print(\"Accuracy: \" + str(accuracy))\n",
    "print(\"Precision: \" + str(precision))\n",
    "print(\"Recall: \" + str(recall))\n",
    "print(\"F-1 Score: \" + str(f1))"
   ]
  },
  {
   "cell_type": "markdown",
   "metadata": {},
   "source": [
    "### 2.3.4 Top features "
   ]
  },
  {
   "cell_type": "code",
   "execution_count": 26,
   "metadata": {},
   "outputs": [
    {
     "data": {
      "text/plain": [
       "[('POLI_index_vec', 0.0),\n",
       " ('State_index_vec', 0.10641277685481604),\n",
       " ('TRUN', 0.0006445092990540575),\n",
       " ('TSLPI', 0.0),\n",
       " ('TSLPU', 0.020453474460004784),\n",
       " ('NICE', 0.005123174490015468),\n",
       " ('PRI', 0.01979588933308568),\n",
       " ('CPUNR', 0.0),\n",
       " ('EXC', 0.013108914122543138)]"
      ]
     },
     "execution_count": 26,
     "metadata": {},
     "output_type": "execute_result"
    }
   ],
   "source": [
    "\n",
    "va = model_gbt_p.stages[-3]\n",
    "tree = model_gbt_p.stages[-1]\n",
    "list(zip(va.getInputCols(), tree.featureImportances))\n",
    "\n"
   ]
  },
  {
   "cell_type": "code",
   "execution_count": 27,
   "metadata": {},
   "outputs": [
    {
     "ename": "NameError",
     "evalue": "name 'model_dt_m' is not defined",
     "output_type": "error",
     "traceback": [
      "\u001b[0;31m---------------------------------------------------------------------------\u001b[0m",
      "\u001b[0;31mNameError\u001b[0m                                 Traceback (most recent call last)",
      "\u001b[0;32m<ipython-input-27-bd11a72479d6>\u001b[0m in \u001b[0;36m<module>\u001b[0;34m\u001b[0m\n\u001b[0;32m----> 1\u001b[0;31m \u001b[0mva\u001b[0m \u001b[0;34m=\u001b[0m \u001b[0mmodel_dt_m\u001b[0m\u001b[0;34m.\u001b[0m\u001b[0mstages\u001b[0m\u001b[0;34m[\u001b[0m\u001b[0;34m-\u001b[0m\u001b[0;36m3\u001b[0m\u001b[0;34m]\u001b[0m\u001b[0;34m\u001b[0m\u001b[0;34m\u001b[0m\u001b[0m\n\u001b[0m\u001b[1;32m      2\u001b[0m \u001b[0mtree\u001b[0m \u001b[0;34m=\u001b[0m \u001b[0mmodel_dt_m\u001b[0m\u001b[0;34m.\u001b[0m\u001b[0mstages\u001b[0m\u001b[0;34m[\u001b[0m\u001b[0;34m-\u001b[0m\u001b[0;36m1\u001b[0m\u001b[0;34m]\u001b[0m\u001b[0;34m\u001b[0m\u001b[0;34m\u001b[0m\u001b[0m\n\u001b[1;32m      3\u001b[0m \u001b[0mlist\u001b[0m\u001b[0;34m(\u001b[0m\u001b[0mzip\u001b[0m\u001b[0;34m(\u001b[0m\u001b[0mva\u001b[0m\u001b[0;34m.\u001b[0m\u001b[0mgetInputCols\u001b[0m\u001b[0;34m(\u001b[0m\u001b[0;34m)\u001b[0m\u001b[0;34m,\u001b[0m \u001b[0mtree\u001b[0m\u001b[0;34m.\u001b[0m\u001b[0mfeatureImportances\u001b[0m\u001b[0;34m)\u001b[0m\u001b[0;34m)\u001b[0m\u001b[0;34m\u001b[0m\u001b[0;34m\u001b[0m\u001b[0m\n\u001b[1;32m      4\u001b[0m \u001b[0;34m\u001b[0m\u001b[0m\n",
      "\u001b[0;31mNameError\u001b[0m: name 'model_dt_m' is not defined"
     ]
    }
   ],
   "source": [
    "va = model_dt_m.stages[-3]\n",
    "tree = model_dt_m.stages[-1]\n",
    "list(zip(va.getInputCols(), tree.featureImportances))\n",
    "\n"
   ]
  },
  {
   "cell_type": "code",
   "execution_count": null,
   "metadata": {},
   "outputs": [],
   "source": [
    "va = model_gbt_m.stages[-3]\n",
    "tree = model_gbt_m.stages[-1]\n",
    "list(zip(va.getInputCols(), tree.featureImportances))\n",
    "\n"
   ]
  },
  {
   "cell_type": "code",
   "execution_count": null,
   "metadata": {},
   "outputs": [],
   "source": [
    "va = model_dt_p.stages[-3]\n",
    "tree = model_dt_p.stages[-1]\n",
    "list(zip(va.getInputCols(), tree.featureImportances))\n",
    "\n"
   ]
  },
  {
   "cell_type": "markdown",
   "metadata": {},
   "source": [
    "### 2.3.5 Retrain pipeline based on new train data"
   ]
  },
  {
   "cell_type": "markdown",
   "metadata": {},
   "source": [
    "### Rebalance train considering all \"attack\"  events "
   ]
  },
  {
   "cell_type": "markdown",
   "metadata": {},
   "source": [
    "###   Activity : memory"
   ]
  },
  {
   "cell_type": "code",
   "execution_count": null,
   "metadata": {},
   "outputs": [],
   "source": [
    "df_non_attack_memory = memory_train.filter(memory_train[\"attack\"] == 0)\n",
    "\n",
    "sampling_ratio_1_new= (df_attack_memory.count()*2)/(df_non_attack_process.count())   ### since 1:2 ratio of attack and non attack find the req ratio of sampling of \"non attack\"  records dataframe  \n",
    "#print(sampling_ratio_1_new)\n",
    "### now sample the \"non attack dataframe\" \n",
    "df_non_attack_memory_sample = df_non_attack_memory.sample(False ,0.25, 124)\n",
    "#print the no of records to check if they are in 1:2 ratio\n",
    "#print(df_non_attack_memory_sample.count())"
   ]
  },
  {
   "cell_type": "code",
   "execution_count": null,
   "metadata": {},
   "outputs": [],
   "source": [
    "new_train_memory = df_attack_memory.unionAll(df_non_attack_memory_sample)   # final rebalanced training data\n",
    "new_train_memory.groupBy(\"attack\").count().show()           #### print to check if the attack and non attack events are close in 1:2 ratio"
   ]
  },
  {
   "cell_type": "code",
   "execution_count": null,
   "metadata": {},
   "outputs": [],
   "source": [
    "model_dt_m_new = pipeline_1_m.fit(new_train_memory)  # retrain pipeline based on n\n",
    "model_gbt_m_new = pipeline_2_m.fit(new_train_memory)\n"
   ]
  },
  {
   "cell_type": "markdown",
   "metadata": {},
   "source": [
    "### Activity : Process"
   ]
  },
  {
   "cell_type": "code",
   "execution_count": null,
   "metadata": {},
   "outputs": [],
   "source": [
    "### create dataframe for non attack records\n",
    "df_non_attack_process = process_train.filter(process_train[\"attack\"] == 0)\n",
    "\n",
    "sampling_ratio_1_new= (df_attack_process.count()*2)/(df_non_attack_process.count())   ### since 1:2 ratio of attack and non attack find the req ratio of sampling of \"non attack\"  records dataframe  \n",
    "#sampling_ratio = round(sampling_ratio,2)\n",
    "### now sample the \"non attack dataframe\" \n",
    "df_non_attack_process_sample = df_non_attack_process.sample(False ,0.35, 124)\n",
    "#print the no of records to check if they are in 1:2 ratio\n",
    "print(df_non_attack_process_sample.count())"
   ]
  },
  {
   "cell_type": "code",
   "execution_count": null,
   "metadata": {},
   "outputs": [],
   "source": [
    "new_train_process = df_attack_process.unionAll(df_non_attack_process_sample)   # final rebalanced training data\n",
    "new_train_process.groupBy(\"attack\").count().show()           #### print to check if the attack and non attack events are close in 1:2 ratio"
   ]
  },
  {
   "cell_type": "code",
   "execution_count": null,
   "metadata": {},
   "outputs": [],
   "source": [
    "model_dt_p_new = pipeline_1_p.fit(new_train_process)\n",
    "model_gbt_p_new = pipeline_2_p.fit(new_train_process)\n"
   ]
  },
  {
   "cell_type": "markdown",
   "metadata": {},
   "source": [
    "# 3: Knowledge sharing "
   ]
  },
  {
   "cell_type": "markdown",
   "metadata": {},
   "source": [
    "### 3.1"
   ]
  },
  {
   "cell_type": "code",
   "execution_count": null,
   "metadata": {},
   "outputs": [],
   "source": [
    "# Stop the SparkContext\n",
    "sc.stop()\n",
    "spark = SparkSession.builder.config(conf=spark_conf).getOrCreate()\n",
    "\n",
    "# Start new SparkContext\n",
    "sc = SparkContext.getOrCreate(spark_conf)\n"
   ]
  },
  {
   "cell_type": "code",
   "execution_count": null,
   "metadata": {},
   "outputs": [],
   "source": [
    "from pyspark.ml.clustering import KMeans\n",
    "iris_df = spark.createDataFrame([\n",
    "(4.7, 3.2, 1.3, 0.2),\n",
    "(4.9, 3.1, 1.5, 0.1),\n",
    "(5.4, 3.9, 1.3, 0.4),\n",
    "(5.0, 3.4, 1.6, 0.4),\n",
    "(5.1, 3.8, 1.6, 0.2),\n",
    "(4.9, 2.4, 3.3, 1.0),\n",
    "(6.6, 2.9, 4.6, 1.3),\n",
    "(5.6, 3.0, 4.5, 1.5),\n",
    "(5.7, 2.6, 3.5, 1.0),\n",
    "(5.8, 2.6, 4.0, 1.2),\n",
    "(5.8, 2.8, 5.1, 2.4),\n",
    "(6.2, 2.8, 4.8, 1.8),\n",
    "(6.0, 3.0, 4.8, 1.8),\n",
    "(6.7, 3.1, 5.6, 2.4),\n",
    "(6.7, 3.0, 5.2, 2.3),\n",
    "(6.2, 3.4, 5.4, 2.3)],\n",
    "['sepal_length', 'sepal_width', 'petal_length', 'petal_width'])\n",
    "assembler = VectorAssembler(\n",
    "inputCols=['sepal_length', 'sepal_width', 'petal_length', 'petal_width'],\n",
    "outputCol='features')\n",
    "kmeans = KMeans(k=3).fit(assembler.transform(iris_df))"
   ]
  },
  {
   "cell_type": "code",
   "execution_count": 1,
   "metadata": {},
   "outputs": [
    {
     "data": {
      "image/png": "[encoded data removed]",
      "text/plain": [
       "<IPython.core.display.Image object>"
      ]
     },
     "execution_count": 1,
     "metadata": {},
     "output_type": "execute_result"
    }
   ],
   "source": [
    "from IPython.display import Image\n",
    "Image(filename='sparkui.PNG')\n"
   ]
  },
  {
   "cell_type": "markdown",
   "metadata": {},
   "source": [
    "The total no of jobs are 10 "
   ]
  },
  {
   "cell_type": "markdown",
   "metadata": {},
   "source": [
    "### 3.2 "
   ]
  },
  {
   "cell_type": "markdown",
   "metadata": {},
   "source": [
    "Each job as shown is a processor thread working on each paritition of the data , simulataeously calculating centroid by initially ,samling random values , which are summed together to find centroid of cluster , now each partition has a cluster and each cluster calucaltes  different centroids and finally all these clusters are taken union , hence resulting in final cluster."
   ]
  },
  {
   "cell_type": "code",
   "execution_count": null,
   "metadata": {},
   "outputs": [],
   "source": []
  },
  {
   "cell_type": "code",
   "execution_count": null,
   "metadata": {},
   "outputs": [],
   "source": []
  },
  {
   "cell_type": "code",
   "execution_count": null,
   "metadata": {},
   "outputs": [],
   "source": []
  },
  {
   "cell_type": "code",
   "execution_count": null,
   "metadata": {},
   "outputs": [],
   "source": []
  },
  {
   "cell_type": "code",
   "execution_count": null,
   "metadata": {},
   "outputs": [],
   "source": []
  },
  {
   "cell_type": "code",
   "execution_count": null,
   "metadata": {},
   "outputs": [],
   "source": []
  },
  {
   "cell_type": "code",
   "execution_count": null,
   "metadata": {},
   "outputs": [],
   "source": []
  },
  {
   "cell_type": "code",
   "execution_count": null,
   "metadata": {},
   "outputs": [],
   "source": []
  }
 ],
 "metadata": {
  "kernelspec": {
   "display_name": "Python 3",
   "language": "python",
   "name": "python3"
  },
  "language_info": {
   "codemirror_mode": {
    "name": "ipython",
    "version": 3
   },
   "file_extension": ".py",
   "mimetype": "text/x-python",
   "name": "python",
   "nbconvert_exporter": "python",
   "pygments_lexer": "ipython3",
   "version": "3.8.2"
  }
 },
 "nbformat": 4,
 "nbformat_minor": 4
}
