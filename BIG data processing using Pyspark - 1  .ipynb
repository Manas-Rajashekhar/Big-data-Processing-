{
 "cells": [
  {
   "cell_type": "code",
   "execution_count": 259,
   "metadata": {},
   "outputs": [],
   "source": [
    "# Import SparkConf class into program\n",
    "from pyspark import SparkConf\n",
    "from pyspark import SparkContext # Spark\n",
    "from pyspark.sql import SparkSession # Spark SQL\n",
    "import pyspark.sql.functions as F\n",
    "from pyspark.sql.types import IntegerType\n",
    "from pyspark.sql.types import *\n",
    "from pyspark.sql.functions import concat , lit, col\n",
    "from pyspark.sql.types import IntegerType\n",
    "import matplotlib.pyplot as plt\n",
    "from pyspark.sql.functions import udf\n",
    "from pyspark.sql.types import IntegerType\n",
    "# local[*]: run Spark in local mode with as many working processors as logical cores on your machine\n",
    "# If we want Spark to run locally with 'k' worker threads, we can specify as \"local[k]\".\n",
    "master = \"local[*]\"\n",
    "# The `appName` field is a name to be shown on the Spark cluster UI page\n",
    "app_name = \"My spark assignment \"\n",
    "# Setup configuration parameters for Spark\n",
    "spark_conf = SparkConf().setMaster(master).setAppName(app_name)\n"
   ]
  },
  {
   "cell_type": "code",
   "execution_count": 260,
   "metadata": {},
   "outputs": [],
   "source": [
    "spark = SparkSession.builder.config(conf=spark_conf).getOrCreate()\n",
    "sc = spark.sparkContext\n",
    "sc.setLogLevel('ERROR')               #### spark initialization"
   ]
  },
  {
   "cell_type": "markdown",
   "metadata": {},
   "source": [
    "### Section 1.1"
   ]
  },
  {
   "cell_type": "markdown",
   "metadata": {},
   "source": [
    "######  1.1.1.1  - 1.1.1.3 Loading data sets "
   ]
  },
  {
   "cell_type": "code",
   "execution_count": 261,
   "metadata": {},
   "outputs": [],
   "source": [
    "###### Load datasets\n",
    "df_crash= spark.sparkContext.textFile(\"2015_DATA_SA_Crash.csv,2016_DATA_SA_Crash.csv,2017_DATA_SA_Crash.csv,2018_DATA_SA_Crash.csv,2019_DATA_SA_Crash.csv\")\n",
    "\n",
    "df_units = spark.sparkContext.textFile(\"2015_DATA_SA_Units.csv,2016_DATA_SA_Units.csv,2017_DATA_SA_Units.csv,2018_DATA_SA_Units.csv,2019_DATA_SA_Units.csv\")"
   ]
  },
  {
   "cell_type": "markdown",
   "metadata": {},
   "source": [
    "######  1.1.1.4"
   ]
  },
  {
   "cell_type": "code",
   "execution_count": 262,
   "metadata": {
    "scrolled": true
   },
   "outputs": [
    {
     "data": {
      "text/plain": [
       "['\"REPORT_ID\",\"Stats Area\",\"Suburb\",\"Postcode\",\"LGA Name\",\"Total Units\",\"Total Cas\",\"Total Fats\",\"Total SI\",\"Total MI\",\"Year\",\"Month\",\"Day\",\"Time\",\"Area Speed\",\"Position Type\",\"Horizontal Align\",\"Vertical Align\",\"Other Feat\",\"Road Surface\",\"Moisture Cond\",\"Weather Cond\",\"DayNight\",\"Crash Type\",\"Unit Resp\",\"Entity Code\",\"CSEF Severity\",\"Traffic Ctrls\",\"DUI Involved\",\"Drugs Involved\",\"ACCLOC_X\",\"ACCLOC_Y\",\"UNIQUE_LOC\"',\n",
       " '\"2015-1-21/08/2019\",\"2 Metropolitan\",\"ELIZABETH VALE\",\"5112\",\"CITY OF PLAYFORD.\",2,1,0,0,1,2015,\"January\",\"Wednesday\",\"01:00 pm\",\"060\",\"T-Junction\",\"Straight road\",\"Level\",\"Not Applicable\",\"Sealed\",\"Dry\",\"Not Raining\",\"Daylight\",\"Side Swipe\",\"01\",\"Driver Rider\",\"2: MI\",\"No Control\",\"\",\"\",1335254.54,1690056.88,\"13352551690057\"',\n",
       " '\"2015-2-21/08/2019\",\"2 Metropolitan\",\"SALISBURY\",\"5108\",\"CITY OF SALISBURY\",2,1,0,0,1,2015,\"February\",\"Tuesday\",\"03:38 pm\",\"060\",\"Cross Road\",\"Straight road\",\"Level\",\"Not Applicable\",\"Sealed\",\"Dry\",\"Not Raining\",\"Daylight\",\"Rear End\",\"01\",\"Driver Rider\",\"2: MI\",\"Traffic Signals\",\"\",\"\",1333389.6,1688248.34,\"13333901688248\"',\n",
       " '\"2015-3-21/08/2019\",\"2 Metropolitan\",\"ST MARYS\",\"5042\",\"CC MITCHAM.                   \",2,1,0,0,1,2015,\"March\",\"Tuesday\",\"01:15 pm\",\"070\",\"Cross Road\",\"Straight road\",\"Level\",\"Not Applicable\",\"Sealed\",\"Dry\",\"Not Raining\",\"Daylight\",\"Rear End\",\"01\",\"Driver Rider\",\"2: MI\",\"Traffic Signals\",\"\",\"\",1326004.51,1661277.67,\"13260051661278\"',\n",
       " '\"2015-4-21/08/2019\",\"2 Metropolitan\",\"MITCHELL PARK\",\"5043\",\"CC MARION.                    \",3,0,0,0,0,2015,\"January\",\"Friday\",\"11:15 am\",\"060\",\"Divided Road\",\"Straight road\",\"Level\",\"Not Applicable\",\"Sealed\",\"Dry\",\"Not Raining\",\"Daylight\",\"Rear End\",\"01\",\"Driver Rider\",\"1: PDO\",\"No Control\",\"\",\"\",1324707.6,1660681.57,\"13247081660682\"',\n",
       " '\"2015-5-21/08/2019\",\"2 Metropolitan\",\"NORTH BRIGHTON\",\"5048\",\"CITY OF HOLDFAST BAY\",2,0,0,0,0,2015,\"January\",\"Sunday\",\"06:05 pm\",\"050\",\"Cross Road\",\"Straight road\",\"Level\",\"Not Applicable\",\"Sealed\",\"Dry\",\"Not Raining\",\"Daylight\",\"Rear End\",\"01\",\"Driver Rider\",\"1: PDO\",\"Stop Sign\",\"\",\"\",1320769.68,1661801.51,\"13207701661802\"',\n",
       " '\"2015-6-21/08/2019\",\"2 Metropolitan\",\"SALISBURY DOWNS\",\"5108\",\"CITY OF SALISBURY\",2,1,0,0,1,2015,\"January\",\"Monday\",\"03:40 pm\",\"060\",\"Cross Road\",\"Straight road\",\"Level\",\"Not Applicable\",\"Sealed\",\"Dry\",\"Not Raining\",\"Daylight\",\"Rear End\",\"01\",\"Driver Rider\",\"2: MI\",\"Traffic Signals\",\"\",\"\",1331438.94,1686827.09,\"13314391686827\"',\n",
       " '\"2015-7-21/08/2019\",\"2 Metropolitan\",\"EDWARDSTOWN\",\"5039\",\"CC MARION.                    \",2,0,0,0,0,2015,\"January\",\"Monday\",\"06:15 pm\",\"050\",\"Cross Road\",\"Straight road\",\"Level\",\"Not Applicable\",\"Sealed\",\"Dry\",\"Not Raining\",\"Daylight\",\"Right Angle\",\"02\",\"Driver Rider\",\"1: PDO\",\"Stop Sign\",\"\",\"\",1325689.36,1665269.62,\"13256891665270\"',\n",
       " '\"2015-8-21/08/2019\",\"1 City\",\"NORTH ADELAIDE\",\"5006\",\"CITY OF ADELAIDE\",2,0,0,0,0,2015,\"January\",\"Tuesday\",\"12:30 pm\",\"050\",\"Not Divided\",\"Straight road\",\"Level\",\"Not Applicable\",\"Sealed\",\"Dry\",\"Not Raining\",\"Daylight\",\"Rear End\",\"01\",\"Driver Rider\",\"1: PDO\",\"No Control\",\"\",\"\",1328296.1,1671670.41,\"13282961671670\"',\n",
       " '\"2015-9-21/08/2019\",\"2 Metropolitan\",\"PLYMPTON\",\"5038\",\"CITY OF WEST TORRENS\",2,0,0,0,0,2015,\"January\",\"Monday\",\"07:30 pm\",\"060\",\"Divided Road\",\"Straight road\",\"Level\",\"Not Applicable\",\"Sealed\",\"Dry\",\"Not Raining\",\"Daylight\",\"Rear End\",\"02\",\"Driver Rider\",\"1: PDO\",\"No Control\",\"\",\"\",1324317.73,1666625.75,\"13243181666626\"']"
      ]
     },
     "execution_count": 262,
     "metadata": {},
     "output_type": "execute_result"
    }
   ],
   "source": [
    "df_crash.take(10)    # display top 10 records\n",
    "\n"
   ]
  },
  {
   "cell_type": "code",
   "execution_count": 263,
   "metadata": {},
   "outputs": [
    {
     "data": {
      "text/plain": [
       "['\"REPORT_ID\",\"Unit No\",\"No Of Cas\",\"Veh Reg State\",\"Unit Type\",\"Veh Year\",\"Direction Of Travel\",\"Sex\",\"Age\",\"Lic State\",\"Licence Class\",\"Licence Type\",\"Towing\",\"Unit Movement\",\"Number Occupants\",\"Postcode\",\"Rollover\",\"Fire\"',\n",
       " '\"2015-1-21/08/2019\",\"01\",0,\"SA\",\"RIGID TRUCK LGE GE 4.5T\",\"1999\",\"North East\",\"Male\",\"052\",\"SA\",\"HRR \",\"Full\",\"Not Towing\",\"Swerving\",\"001\",\"5109\",,',\n",
       " '\"2015-1-21/08/2019\",\"02\",1,\"SA\",\"Motor Cars - Sedan\",\"2009\",\"North East\",\"Female\",\"057\",\"SA\",\"C \",\"Full\",\"Not Towing\",\"Straight Ahead\",\"002\",\"5125\",,',\n",
       " '\"2015-2-21/08/2019\",\"01\",0,\"SA\",\"Motor Cars - Sedan\",\"2009\",\"South East\",\"Male\",\"020\",\"SA\",\"MR\",\"Provisional 1 \",\"Not Towing\",\"Straight Ahead\",\"001\",\"5110\",,',\n",
       " '\"2015-2-21/08/2019\",\"02\",1,\"SA\",\"Motor Cars - Sedan\",\"1994\",\"South East\",\"Female\",\"021\",\"SA\",\"C \",\"Full\",\"Not Towing\",\"Stopped on Carriageway\",\"001\",\"5096\",,',\n",
       " '\"2015-3-21/08/2019\",\"01\",0,\"SA\",\"Motor Cars - Sedan\",\"2008\",\"North East\",\"Male\",\"023\",\"SA\",\"C \",\"Full\",\"Not Towing\",\"Straight Ahead\",\"001\",\"5034\",,',\n",
       " '\"2015-3-21/08/2019\",\"02\",1,\"SA\",\"Motor Cars - Sedan\",\"2007\",\"North East\",\"Female\",\"025\",\"SA\",\"C \",\"Full\",\"Not Towing\",\"Stopped on Carriageway\",\"001\",\"5015\",,',\n",
       " '\"2015-4-21/08/2019\",\"01\",0,\"SA\",\"Station Wagon\",\"1992\",\"West\",\"Male\",\"059\",\"SA\",\"C R \",\"Full\",\"Not Towing\",\"Straight Ahead\",\"001\",\"5043\",,',\n",
       " '\"2015-4-21/08/2019\",\"02\",0,\"SA\",\"Motor Cars - Sedan\",\"2009\",\"West\",\"Male\",\"040\",\"SA\",\"C \",\"Full\",\"Not Towing\",\"Stopped on Carriageway\",\"003\",\"5044\",,',\n",
       " '\"2015-4-21/08/2019\",\"03\",0,\"SA\",\"Motor Cars - Sedan\",\"2006\",\"West\",\"Male\",\"038\",\"SA\",\"C R \",\"Full\",\"Not Towing\",\"Stopped on Carriageway\",\"001\",\"5022\",,']"
      ]
     },
     "execution_count": 263,
     "metadata": {},
     "output_type": "execute_result"
    }
   ],
   "source": [
    "\n",
    "df_units.take(10)"
   ]
  },
  {
   "cell_type": "code",
   "execution_count": 264,
   "metadata": {},
   "outputs": [],
   "source": [
    "header_1 = df_crash.first()\n",
    "df_crash_new = df_crash.filter(lambda x: x != header_1)\n",
    "                                                                ### remove headers\n",
    "header_2 = df_units.first()\n",
    "df_units_new = df_crash.filter(lambda x: x != header_2)\n"
   ]
  },
  {
   "cell_type": "code",
   "execution_count": 265,
   "metadata": {},
   "outputs": [
    {
     "data": {
      "text/plain": [
       "'\"REPORT_ID\",\"Unit No\",\"No Of Cas\",\"Veh Reg State\",\"Unit Type\",\"Veh Year\",\"Direction Of Travel\",\"Sex\",\"Age\",\"Lic State\",\"Licence Class\",\"Licence Type\",\"Towing\",\"Unit Movement\",\"Number Occupants\",\"Postcode\",\"Rollover\",\"Fire\"'"
      ]
     },
     "execution_count": 265,
     "metadata": {},
     "output_type": "execute_result"
    }
   ],
   "source": [
    "header_2"
   ]
  },
  {
   "cell_type": "code",
   "execution_count": 266,
   "metadata": {
    "scrolled": true
   },
   "outputs": [],
   "source": [
    "#df_crash_new.count()\n",
    "\n",
    "\n",
    "#df_crash_new.take(10)"
   ]
  },
  {
   "cell_type": "code",
   "execution_count": 267,
   "metadata": {
    "scrolled": true
   },
   "outputs": [
    {
     "data": {
      "text/plain": [
       "72011"
      ]
     },
     "execution_count": 267,
     "metadata": {},
     "output_type": "execute_result"
    }
   ],
   "source": [
    "df_units_new.count()\n",
    "\n",
    "\n",
    "#df_units_new.take(10)"
   ]
  },
  {
   "cell_type": "markdown",
   "metadata": {},
   "source": [
    "#####  1.2.1"
   ]
  },
  {
   "cell_type": "code",
   "execution_count": 268,
   "metadata": {},
   "outputs": [
    {
     "name": "stdout",
     "output_type": "stream",
     "text": [
      "Default partitions:  5\n"
     ]
    }
   ],
   "source": [
    "print('Default partitions: ',df_crash_new.getNumPartitions())         ##### print partitions"
   ]
  },
  {
   "cell_type": "code",
   "execution_count": 269,
   "metadata": {},
   "outputs": [
    {
     "name": "stdout",
     "output_type": "stream",
     "text": [
      "Default partitions:  5\n"
     ]
    }
   ],
   "source": [
    "print('Default partitions: ',df_units_new.getNumPartitions())          ### print partitions "
   ]
  },
  {
   "cell_type": "markdown",
   "metadata": {},
   "source": [
    "##### One partition for each file by default"
   ]
  },
  {
   "cell_type": "markdown",
   "metadata": {},
   "source": [
    "#### 1.2 "
   ]
  },
  {
   "cell_type": "code",
   "execution_count": 270,
   "metadata": {},
   "outputs": [
    {
     "data": {
      "text/plain": [
       "[('\"SA\"',\n",
       "  ['\"2015-1-21/08/2019\"',\n",
       "   '\"01\"',\n",
       "   '0',\n",
       "   '\"SA\"',\n",
       "   '\"RIGID TRUCK LGE GE 4.5T\"',\n",
       "   '\"1999\"',\n",
       "   '\"North East\"',\n",
       "   '\"Male\"',\n",
       "   '\"HRR \"',\n",
       "   '\"Full\"',\n",
       "   '\"Not Towing\"',\n",
       "   '\"Swerving\"',\n",
       "   '\"001\"',\n",
       "   '\"5109\"',\n",
       "   '',\n",
       "   '']),\n",
       " ('\"SA\"',\n",
       "  ['\"2015-1-21/08/2019\"',\n",
       "   '\"02\"',\n",
       "   '1',\n",
       "   '\"SA\"',\n",
       "   '\"Motor Cars - Sedan\"',\n",
       "   '\"2009\"',\n",
       "   '\"North East\"',\n",
       "   '\"Female\"',\n",
       "   '\"C \"',\n",
       "   '\"Full\"',\n",
       "   '\"Not Towing\"',\n",
       "   '\"Straight Ahead\"',\n",
       "   '\"002\"',\n",
       "   '\"5125\"',\n",
       "   '',\n",
       "   '']),\n",
       " ('\"SA\"',\n",
       "  ['\"2015-2-21/08/2019\"',\n",
       "   '\"01\"',\n",
       "   '0',\n",
       "   '\"SA\"',\n",
       "   '\"Motor Cars - Sedan\"',\n",
       "   '\"2009\"',\n",
       "   '\"South East\"',\n",
       "   '\"Male\"',\n",
       "   '\"MR\"',\n",
       "   '\"Provisional 1 \"',\n",
       "   '\"Not Towing\"',\n",
       "   '\"Straight Ahead\"',\n",
       "   '\"001\"',\n",
       "   '\"5110\"',\n",
       "   '',\n",
       "   '']),\n",
       " ('\"SA\"',\n",
       "  ['\"2015-2-21/08/2019\"',\n",
       "   '\"02\"',\n",
       "   '1',\n",
       "   '\"SA\"',\n",
       "   '\"Motor Cars - Sedan\"',\n",
       "   '\"1994\"',\n",
       "   '\"South East\"',\n",
       "   '\"Female\"',\n",
       "   '\"C \"',\n",
       "   '\"Full\"',\n",
       "   '\"Not Towing\"',\n",
       "   '\"Stopped on Carriageway\"',\n",
       "   '\"001\"',\n",
       "   '\"5096\"',\n",
       "   '',\n",
       "   '']),\n",
       " ('\"SA\"',\n",
       "  ['\"2015-3-21/08/2019\"',\n",
       "   '\"01\"',\n",
       "   '0',\n",
       "   '\"SA\"',\n",
       "   '\"Motor Cars - Sedan\"',\n",
       "   '\"2008\"',\n",
       "   '\"North East\"',\n",
       "   '\"Male\"',\n",
       "   '\"C \"',\n",
       "   '\"Full\"',\n",
       "   '\"Not Towing\"',\n",
       "   '\"Straight Ahead\"',\n",
       "   '\"001\"',\n",
       "   '\"5034\"',\n",
       "   '',\n",
       "   ''])]"
      ]
     },
     "execution_count": 270,
     "metadata": {},
     "output_type": "execute_result"
    }
   ],
   "source": [
    "df_units_new = df_units.filter(lambda x: x != header_2).map(lambda x: x.split(',')).map(lambda x: (x[9],x[0:8]+x[10:]))\n",
    "df_units_new.take(5)                           #### remove header and split ased on columns  and slicing to make sure to get all columns except the 9th column "
   ]
  },
  {
   "cell_type": "code",
   "execution_count": 271,
   "metadata": {},
   "outputs": [],
   "source": [
    "\n",
    "def SA_partition(key):\n",
    "    if key == '\"SA\"':\n",
    "        return 0\n",
    "    else:                             #### user defined function to partition , where 0 index puts all records of \"SA\" FOR FIRST PARTITITON\n",
    "                                      ### REST Go in partiton 1\n",
    "        return 1\n",
    "    \n"
   ]
  },
  {
   "cell_type": "code",
   "execution_count": 272,
   "metadata": {},
   "outputs": [],
   "source": [
    "#no_of_partitions = 2"
   ]
  },
  {
   "cell_type": "code",
   "execution_count": 273,
   "metadata": {},
   "outputs": [],
   "source": [
    "custom_partitioned_rdd = df_units_new.partitionBy(2, SA_partition )"
   ]
  },
  {
   "cell_type": "code",
   "execution_count": 274,
   "metadata": {},
   "outputs": [
    {
     "data": {
      "text/plain": [
       "[('\"SA\"',\n",
       "  ['\"2015-1-21/08/2019\"',\n",
       "   '\"01\"',\n",
       "   '0',\n",
       "   '\"SA\"',\n",
       "   '\"RIGID TRUCK LGE GE 4.5T\"',\n",
       "   '\"1999\"',\n",
       "   '\"North East\"',\n",
       "   '\"Male\"',\n",
       "   '\"HRR \"',\n",
       "   '\"Full\"',\n",
       "   '\"Not Towing\"',\n",
       "   '\"Swerving\"',\n",
       "   '\"001\"',\n",
       "   '\"5109\"',\n",
       "   '',\n",
       "   '']),\n",
       " ('\"SA\"',\n",
       "  ['\"2015-1-21/08/2019\"',\n",
       "   '\"02\"',\n",
       "   '1',\n",
       "   '\"SA\"',\n",
       "   '\"Motor Cars - Sedan\"',\n",
       "   '\"2009\"',\n",
       "   '\"North East\"',\n",
       "   '\"Female\"',\n",
       "   '\"C \"',\n",
       "   '\"Full\"',\n",
       "   '\"Not Towing\"',\n",
       "   '\"Straight Ahead\"',\n",
       "   '\"002\"',\n",
       "   '\"5125\"',\n",
       "   '',\n",
       "   '']),\n",
       " ('\"SA\"',\n",
       "  ['\"2015-2-21/08/2019\"',\n",
       "   '\"01\"',\n",
       "   '0',\n",
       "   '\"SA\"',\n",
       "   '\"Motor Cars - Sedan\"',\n",
       "   '\"2009\"',\n",
       "   '\"South East\"',\n",
       "   '\"Male\"',\n",
       "   '\"MR\"',\n",
       "   '\"Provisional 1 \"',\n",
       "   '\"Not Towing\"',\n",
       "   '\"Straight Ahead\"',\n",
       "   '\"001\"',\n",
       "   '\"5110\"',\n",
       "   '',\n",
       "   '']),\n",
       " ('\"SA\"',\n",
       "  ['\"2015-2-21/08/2019\"',\n",
       "   '\"02\"',\n",
       "   '1',\n",
       "   '\"SA\"',\n",
       "   '\"Motor Cars - Sedan\"',\n",
       "   '\"1994\"',\n",
       "   '\"South East\"',\n",
       "   '\"Female\"',\n",
       "   '\"C \"',\n",
       "   '\"Full\"',\n",
       "   '\"Not Towing\"',\n",
       "   '\"Stopped on Carriageway\"',\n",
       "   '\"001\"',\n",
       "   '\"5096\"',\n",
       "   '',\n",
       "   '']),\n",
       " ('\"SA\"',\n",
       "  ['\"2015-3-21/08/2019\"',\n",
       "   '\"01\"',\n",
       "   '0',\n",
       "   '\"SA\"',\n",
       "   '\"Motor Cars - Sedan\"',\n",
       "   '\"2008\"',\n",
       "   '\"North East\"',\n",
       "   '\"Male\"',\n",
       "   '\"C \"',\n",
       "   '\"Full\"',\n",
       "   '\"Not Towing\"',\n",
       "   '\"Straight Ahead\"',\n",
       "   '\"001\"',\n",
       "   '\"5034\"',\n",
       "   '',\n",
       "   ''])]"
      ]
     },
     "execution_count": 274,
     "metadata": {},
     "output_type": "execute_result"
    }
   ],
   "source": [
    "custom_partitioned_rdd.take(5)"
   ]
  },
  {
   "cell_type": "code",
   "execution_count": 275,
   "metadata": {},
   "outputs": [
    {
     "name": "stdout",
     "output_type": "stream",
     "text": [
      "no of partitions:  2\n"
     ]
    }
   ],
   "source": [
    "print('no of partitions: ',custom_partitioned_rdd.getNumPartitions())"
   ]
  },
  {
   "cell_type": "code",
   "execution_count": 276,
   "metadata": {},
   "outputs": [],
   "source": [
    "from pyspark.rdd import RDD\n",
    "\n",
    "#A Function to print the data items in each RDD\n",
    "#Same function is used to print out the data items of a DataFrame later\n",
    "def print_partitions(data):\n",
    "    if isinstance(data, RDD):\n",
    "        numPartitions = data.getNumPartitions()\n",
    "        partitions = data.glom().collect()\n",
    "    else:\n",
    "        numPartitions = data.rdd.getNumPartitions()\n",
    "        partitions = data.rdd.glom().collect()\n",
    "    \n",
    "    print(f\"####### NUMBER OF PARTITIONS: {numPartitions}\")\n",
    "    for index, partition in enumerate(partitions):\n",
    "        # show partition if it is not empty\n",
    "        if len(partition) > 0:\n",
    "            print(f\"Partition {index}: {len(partition)} records\")"
   ]
  },
  {
   "cell_type": "code",
   "execution_count": 277,
   "metadata": {},
   "outputs": [
    {
     "name": "stdout",
     "output_type": "stream",
     "text": [
      "####### NUMBER OF PARTITIONS: 2\n",
      "Partition 0: 109684 records\n",
      "Partition 1: 44170 records\n"
     ]
    }
   ],
   "source": [
    "print_partitions(custom_partitioned_rdd)"
   ]
  },
  {
   "cell_type": "markdown",
   "metadata": {},
   "source": [
    "###  partition 0 has more records so more skewed "
   ]
  },
  {
   "cell_type": "markdown",
   "metadata": {},
   "source": [
    "### 1.3"
   ]
  },
  {
   "cell_type": "markdown",
   "metadata": {},
   "source": [
    "##### 1.3.1"
   ]
  },
  {
   "cell_type": "code",
   "execution_count": 278,
   "metadata": {},
   "outputs": [],
   "source": [
    "df_temp_query = df_units.filter(lambda x: x != header_2).map(lambda x: x.split(','))"
   ]
  },
  {
   "cell_type": "code",
   "execution_count": 279,
   "metadata": {},
   "outputs": [],
   "source": [
    "def filter_func(x):\n",
    "    x = x.replace('\"', '')\n",
    "    x = x.replace(\"'\", '')\n",
    "    return int(x)"
   ]
  },
  {
   "cell_type": "code",
   "execution_count": 280,
   "metadata": {},
   "outputs": [],
   "source": [
    "integer_udf = udf(filter_func,IntegerType())\n"
   ]
  },
  {
   "cell_type": "code",
   "execution_count": 281,
   "metadata": {
    "scrolled": true
   },
   "outputs": [],
   "source": [
    "df_temp_query = df_temp_query.filter(lambda x: x[7] == '\"Male\"')\n",
    "##\n"
   ]
  },
  {
   "cell_type": "markdown",
   "metadata": {},
   "source": [
    "###### 1.3.2 "
   ]
  },
  {
   "cell_type": "code",
   "execution_count": 282,
   "metadata": {},
   "outputs": [],
   "source": [
    "df_required  = df_units_new.map(lambda x: (x[3],x[4],x[5]))\n"
   ]
  },
  {
   "cell_type": "code",
   "execution_count": null,
   "metadata": {},
   "outputs": [],
   "source": []
  },
  {
   "cell_type": "markdown",
   "metadata": {},
   "source": [
    "#### 2.1.1"
   ]
  },
  {
   "cell_type": "code",
   "execution_count": 47,
   "metadata": {},
   "outputs": [],
   "source": [
    "path_1 = ['2015_DATA_SA_Crash.csv','2016_DATA_SA_Crash.csv','2017_DATA_SA_Crash.csv','2018_DATA_SA_Crash.csv','2019_DATA_SA_Crash.csv']\n",
    "d_frame_crash = spark.read.option(\"header\", \"true\").csv(path_1)                  #### load  all csv files by passing a list of paths of files"
   ]
  },
  {
   "cell_type": "code",
   "execution_count": 48,
   "metadata": {},
   "outputs": [
    {
     "name": "stdout",
     "output_type": "stream",
     "text": [
      "root\n",
      " |-- REPORT_ID: string (nullable = true)\n",
      " |-- Stats Area: string (nullable = true)\n",
      " |-- Suburb: string (nullable = true)\n",
      " |-- Postcode: string (nullable = true)\n",
      " |-- LGA Name: string (nullable = true)\n",
      " |-- Total Units: string (nullable = true)\n",
      " |-- Total Cas: string (nullable = true)\n",
      " |-- Total Fats: string (nullable = true)\n",
      " |-- Total SI: string (nullable = true)\n",
      " |-- Total MI: string (nullable = true)\n",
      " |-- Year: string (nullable = true)\n",
      " |-- Month: string (nullable = true)\n",
      " |-- Day: string (nullable = true)\n",
      " |-- Time: string (nullable = true)\n",
      " |-- Area Speed: string (nullable = true)\n",
      " |-- Position Type: string (nullable = true)\n",
      " |-- Horizontal Align: string (nullable = true)\n",
      " |-- Vertical Align: string (nullable = true)\n",
      " |-- Other Feat: string (nullable = true)\n",
      " |-- Road Surface: string (nullable = true)\n",
      " |-- Moisture Cond: string (nullable = true)\n",
      " |-- Weather Cond: string (nullable = true)\n",
      " |-- DayNight: string (nullable = true)\n",
      " |-- Crash Type: string (nullable = true)\n",
      " |-- Unit Resp: string (nullable = true)\n",
      " |-- Entity Code: string (nullable = true)\n",
      " |-- CSEF Severity: string (nullable = true)\n",
      " |-- Traffic Ctrls: string (nullable = true)\n",
      " |-- DUI Involved: string (nullable = true)\n",
      " |-- Drugs Involved: string (nullable = true)\n",
      " |-- ACCLOC_X: string (nullable = true)\n",
      " |-- ACCLOC_Y: string (nullable = true)\n",
      " |-- UNIQUE_LOC: string (nullable = true)\n",
      "\n"
     ]
    }
   ],
   "source": [
    "d_frame_crash.printSchema()"
   ]
  },
  {
   "cell_type": "code",
   "execution_count": 51,
   "metadata": {
    "scrolled": true
   },
   "outputs": [
    {
     "name": "stdout",
     "output_type": "stream",
     "text": [
      "+------------------+--------------+--------------+--------+--------------------+-----------+---------+----------+--------+--------+----+--------+---------+--------+----------+-------------+-----------------+--------------+--------------+------------+-------------+------------+--------+------------------+---------+------------+-------------+---------------+------------+--------------+----------+----------+--------------+\n",
      "|         REPORT_ID|    Stats Area|        Suburb|Postcode|            LGA Name|Total Units|Total Cas|Total Fats|Total SI|Total MI|Year|   Month|      Day|    Time|Area Speed|Position Type| Horizontal Align|Vertical Align|    Other Feat|Road Surface|Moisture Cond|Weather Cond|DayNight|        Crash Type|Unit Resp| Entity Code|CSEF Severity|  Traffic Ctrls|DUI Involved|Drugs Involved|  ACCLOC_X|  ACCLOC_Y|    UNIQUE_LOC|\n",
      "+------------------+--------------+--------------+--------+--------------------+-----------+---------+----------+--------+--------+----+--------+---------+--------+----------+-------------+-----------------+--------------+--------------+------------+-------------+------------+--------+------------------+---------+------------+-------------+---------------+------------+--------------+----------+----------+--------------+\n",
      "| 2016-1-15/08/2019|        1 City|      ADELAIDE|    5000|    CITY OF ADELAIDE|          2|        1|         1|       0|       0|2016|November|Wednesday|01:45 pm|       050| Divided Road|    Straight road|         Level|Not Applicable|      Sealed|          Dry| Not Raining|Daylight|    Hit Pedestrian|       02|  Pedestrian|     4: Fatal|     No Control|        null|          null|1328459.11|1670877.88|13284591670878|\n",
      "| 2016-2-15/08/2019|2 Metropolitan|       POORAKA|    5095|   CITY OF SALISBURY|          2|        0|         0|       0|       0|2016|December| Thursday|01:00 pm|       070| Divided Road|    Straight road|         Level|Not Applicable|      Sealed|          Dry| Not Raining|Daylight|          Rear End|       02|Driver Rider|       1: PDO|     No Control|        null|          null|1330553.58|1681820.29|13305541681820|\n",
      "| 2016-3-15/08/2019|2 Metropolitan|  GREEN FIELDS|    5107|   CITY OF SALISBURY|          2|        0|         0|       0|       0|2016|November|  Tuesday|07:10 am|       080|   T-Junction|    Straight road|         Level|Not Applicable|      Sealed|          Dry| Not Raining|Daylight|          Rear End|       02|Driver Rider|       1: PDO|Traffic Signals|        null|          null| 1328689.4|1685255.52|13286891685256|\n",
      "| 2016-4-15/08/2019|2 Metropolitan| MITCHELL PARK|    5043|CC MARION.       ...|          2|        0|         0|       0|       0|2016|November|  Tuesday|10:30 am|       060| Divided Road|    Straight road|         Level|Not Applicable|      Sealed|          Dry| Not Raining|Daylight|       Right Angle|       02|Driver Rider|       1: PDO|     No Control|        null|          null|1324836.89|1660685.41|13248371660685|\n",
      "| 2016-5-15/08/2019|2 Metropolitan|EVANSTON SOUTH|    5116|CT GAWLER.       ...|          2|        3|         0|       0|       3|2016|November|  Tuesday|12:56 pm|       090|   Cross Road|    Straight road|         Level|Not Applicable|      Sealed|          Dry| Not Raining|Daylight|       Right Angle|       01|Driver Rider|        2: MI|      Stop Sign|        null|          null|1339551.26|1700125.05|13395511700125|\n",
      "| 2016-6-15/08/2019|2 Metropolitan|  MOUNT BARKER|    5251|DC MT.BARKER.    ...|          2|        0|         0|       0|       0|2016|December| Saturday|02:30 pm|       050|   T-Junction|CURVED, VIEW OPEN|         Level|Not Applicable|      Sealed|          Dry| Not Raining|Daylight|       Right Angle|       01|Driver Rider|       1: PDO|     No Control|        null|          null| 1351084.9|1653388.34|13510851653388|\n",
      "| 2016-7-15/08/2019|2 Metropolitan|     DRY CREEK|    5094|   CITY OF SALISBURY|          2|        0|         0|       0|       0|2016|November|  Tuesday|03:00 pm|       090| Divided Road|    Straight road|         Level|Not Applicable|      Sealed|          Dry| Not Raining|Daylight|        Side Swipe|       02|Driver Rider|       1: PDO|     No Control|        null|          null|1327630.88|1681853.95|13276311681854|\n",
      "| 2016-8-15/08/2019|2 Metropolitan|      PAYNEHAM|    5070|CC OF NORWOOD,PAY...|          4|        1|         0|       0|       1|2016|November|  Tuesday|02:13 pm|       060| Divided Road|    Straight road|         Level|Not Applicable|      Sealed|          Dry| Not Raining|Daylight|Hit Parked Vehicle|       02|Driver Rider|        2: MI|     No Control|        null|          null|1332197.69|1673195.68|13321981673196|\n",
      "| 2016-9-15/08/2019|        1 City|      ADELAIDE|    5000|    CITY OF ADELAIDE|          2|        1|         0|       0|       1|2016|November|  Tuesday|03:40 pm|       060|   T-Junction|    Straight road|         Level|Not Applicable|      Sealed|          Dry| Not Raining|Daylight|       Right Angle|       02|Driver Rider|        2: MI|Traffic Signals|        null|          null|1326873.73|1671362.14|13268741671362|\n",
      "|2016-10-15/08/2019|2 Metropolitan|     THEBARTON|    5031|CITY OF WEST TORRENS|          2|        0|         0|       0|       0|2016|November|  Tuesday|07:49 am|       060| Divided Road|    Straight road|         Level|Not Applicable|      Sealed|          Dry| Not Raining|Daylight|        Side Swipe|       02|Driver Rider|       1: PDO|     No Control|        null|          null|1326583.11|1671636.57|13265831671637|\n",
      "+------------------+--------------+--------------+--------+--------------------+-----------+---------+----------+--------+--------+----+--------+---------+--------+----------+-------------+-----------------+--------------+--------------+------------+-------------+------------+--------+------------------+---------+------------+-------------+---------------+------------+--------------+----------+----------+--------------+\n",
      "only showing top 10 rows\n",
      "\n"
     ]
    }
   ],
   "source": [
    "#d_frame_crash.show(10)\n"
   ]
  },
  {
   "cell_type": "code",
   "execution_count": 49,
   "metadata": {},
   "outputs": [],
   "source": [
    "path_2 = ['2015_DATA_SA_Units.csv','2016_DATA_SA_Units.csv','2017_DATA_SA_Units.csv','2018_DATA_SA_Units.csv','2019_DATA_SA_Units.csv']\n",
    "d_frame_units = spark.read.option(\"header\", \"true\").csv(path_2)"
   ]
  },
  {
   "cell_type": "code",
   "execution_count": 50,
   "metadata": {},
   "outputs": [
    {
     "name": "stdout",
     "output_type": "stream",
     "text": [
      "root\n",
      " |-- REPORT_ID: string (nullable = true)\n",
      " |-- Unit No: string (nullable = true)\n",
      " |-- No Of Cas: string (nullable = true)\n",
      " |-- Veh Reg State: string (nullable = true)\n",
      " |-- Unit Type: string (nullable = true)\n",
      " |-- Veh Year: string (nullable = true)\n",
      " |-- Direction Of Travel: string (nullable = true)\n",
      " |-- Sex: string (nullable = true)\n",
      " |-- Age: string (nullable = true)\n",
      " |-- Lic State: string (nullable = true)\n",
      " |-- Licence Class: string (nullable = true)\n",
      " |-- Licence Type: string (nullable = true)\n",
      " |-- Towing: string (nullable = true)\n",
      " |-- Unit Movement: string (nullable = true)\n",
      " |-- Number Occupants: string (nullable = true)\n",
      " |-- Postcode: string (nullable = true)\n",
      " |-- Rollover: string (nullable = true)\n",
      " |-- Fire: string (nullable = true)\n",
      "\n"
     ]
    }
   ],
   "source": [
    "d_frame_units.printSchema()         #### print schema"
   ]
  },
  {
   "cell_type": "code",
   "execution_count": 52,
   "metadata": {
    "scrolled": true
   },
   "outputs": [
    {
     "name": "stdout",
     "output_type": "stream",
     "text": [
      "+-----------------+-------+---------+-------------+--------------------+--------+-------------------+-------+---+---------+-------------+-------------+----------+---------------+----------------+--------+--------+----+\n",
      "|        REPORT_ID|Unit No|No Of Cas|Veh Reg State|           Unit Type|Veh Year|Direction Of Travel|    Sex|Age|Lic State|Licence Class| Licence Type|    Towing|  Unit Movement|Number Occupants|Postcode|Rollover|Fire|\n",
      "+-----------------+-------+---------+-------------+--------------------+--------+-------------------+-------+---+---------+-------------+-------------+----------+---------------+----------------+--------+--------+----+\n",
      "|2016-1-15/08/2019|     01|        0|           SA|             OMNIBUS|    2011|              North|   Male|056|       SA|           HR|         Full|Not Towing| Straight Ahead|             010|    5121|    null|null|\n",
      "|2016-1-15/08/2019|     02|        1|         null|  Pedestrian on Road|    null|               East|   Male|072|     null|         null|         null|      null|Walking on Road|            null|    5084|    null|null|\n",
      "|2016-2-15/08/2019|     01|        0|           SA|  Motor Cars - Sedan|    2004|            Unknown| Female|023|       SA|           C |         Full|Not Towing| Straight Ahead|             001|    5087|    null|null|\n",
      "|2016-2-15/08/2019|     02|        0|           SA|       Station Wagon|    2008|            Unknown|   Male|040|       SA|           C |         Full|Not Towing| Straight Ahead|             001|    5084|    null|null|\n",
      "|2016-3-15/08/2019|     01|        0|           SA|RIGID TRUCK LGE G...|    1990|              South|Unknown|XXX|       SA|           MR|Provisional 2|Not Towing| Straight Ahead|             001|    5115|    null|null|\n",
      "|2016-3-15/08/2019|     02|        0|           SA|           Panel Van|    2013|              South|   Male|023|       SA|           C |         Full|Not Towing| Straight Ahead|             001|    5110|    null|null|\n",
      "|2016-4-15/08/2019|     01|        0|           SA|       Station Wagon|    2002|               East| Female|033|       SA|           C |         Full|Not Towing| Straight Ahead|             001|    5169|    null|null|\n",
      "|2016-4-15/08/2019|     02|        0|      UNKNOWN|Other Defined Spe...|    XXXX|              North|Unknown|XXX|  UNKNOWN|           XX|      Unknown|   Unknown|      Reversing|             001|    XXXX|    null|null|\n",
      "|2016-5-15/08/2019|     01|        1|           SA|  Motor Cars - Sedan|    1997|         South East|   Male|042|       SA|           C |         Full|Not Towing|     Right Turn|             001|    XXXX|    null|null|\n",
      "|2016-5-15/08/2019|     02|        2|           SA|             Utility|    2015|         North East|   Male|059|       SA|           MC|         Full|Not Towing| Straight Ahead|             002|    5114|    null|null|\n",
      "+-----------------+-------+---------+-------------+--------------------+--------+-------------------+-------+---+---------+-------------+-------------+----------+---------------+----------------+--------+--------+----+\n",
      "only showing top 10 rows\n",
      "\n"
     ]
    }
   ],
   "source": [
    "d_frame_units.show(10)\n"
   ]
  },
  {
   "cell_type": "markdown",
   "metadata": {},
   "source": [
    "#### 2.2 .1  "
   ]
  },
  {
   "cell_type": "code",
   "execution_count": 159,
   "metadata": {},
   "outputs": [
    {
     "name": "stdout",
     "output_type": "stream",
     "text": [
      "+--------------------+----------+--------+--------+----------------+-----------+---------+----------+--------+--------+----+--------+--------+--------+----------+-------------+----------------+--------------+--------------------+------------+-------------+------------+--------+--------------+---------+------------+-------------+---------------+------------+--------------+----------+----------+--------------+\n",
      "|           REPORT_ID|Stats Area|  Suburb|Postcode|        LGA Name|Total Units|Total Cas|Total Fats|Total SI|Total MI|Year|   Month|     Day|    Time|Area Speed|Position Type|Horizontal Align|Vertical Align|          Other Feat|Road Surface|Moisture Cond|Weather Cond|DayNight|    Crash Type|Unit Resp| Entity Code|CSEF Severity|  Traffic Ctrls|DUI Involved|Drugs Involved|  ACCLOC_X|  ACCLOC_Y|    UNIQUE_LOC|\n",
      "+--------------------+----------+--------+--------+----------------+-----------+---------+----------+--------+--------+----+--------+--------+--------+----------+-------------+----------------+--------------+--------------------+------------+-------------+------------+--------+--------------+---------+------------+-------------+---------------+------------+--------------+----------+----------+--------------+\n",
      "| 2018-601-17/01/2020|    1 City|ADELAIDE|    5000|CITY OF ADELAIDE|          8|        4|         0|       2|       2|2018| January|  Sunday|09:12 pm|       050|  Not Divided|   Straight road|         Level|      Not Applicable|      Sealed|          Dry| Not Raining|   Night|Hit Pedestrian|       01|Driver Rider|        3: SI|     No Control|        null|          null|1329806.36|1670224.76|13298061670225|\n",
      "|2017-1613-15/08/2019|    1 City|ADELAIDE|    5000|CITY OF ADELAIDE|          2|        4|         0|       0|       4|2017|February|Saturday|04:00 pm|       050|   Cross Road|   Straight road|         Level|      Not Applicable|      Sealed|          Dry| Not Raining|Daylight|    Right Turn|       01|Driver Rider|        2: MI|Traffic Signals|        null|          null|1327951.24|1669556.92|13279511669557|\n",
      "|2017-12182-15/08/...|    1 City|ADELAIDE|    5000|CITY OF ADELAIDE|          6|        5|         0|       1|       4|2017|December|Saturday|04:08 pm|       050|   Cross Road|   Straight road|         Level|      Not Applicable|      Sealed|          Wet| Not Raining|Daylight|Hit Pedestrian|       01|Driver Rider|        3: SI|Traffic Signals|        null|          null| 1329016.2|1670995.07|13290161670995|\n",
      "|2019-10404-8/07/2020|    1 City|ADELAIDE|    5000|CITY OF ADELAIDE|          4|        6|         0|       0|       6|2019| October|  Monday|08:20 am|       060| Divided Road|   Straight road|         Level|Driveway or Entrance|      Sealed|          Dry| Not Raining|Daylight|    Right Turn|       01|Driver Rider|        2: MI|     No Control|        null|          null|1327088.72|1670880.07|13270891670880|\n",
      "+--------------------+----------+--------+--------+----------------+-----------+---------+----------+--------+--------+----+--------+--------+--------+----------+-------------+----------------+--------------+--------------------+------------+-------------+------------+--------+--------------+---------+------------+-------------+---------------+------------+--------------+----------+----------+--------------+\n",
      "\n"
     ]
    }
   ],
   "source": [
    "d_frame_crash.select('*').filter(d_frame_crash['Suburb'] == \"ADELAIDE\").filter(d_frame_crash['Total Cas'] > 3).show()   ### subset data tO include only ADELAIDE"
   ]
  },
  {
   "cell_type": "code",
   "execution_count": 158,
   "metadata": {},
   "outputs": [
    {
     "name": "stdout",
     "output_type": "stream",
     "text": [
      "+--------------------+--------------+---------------+--------+--------------------+-----------+---------+----------+--------+--------+----+--------+---------+--------+----------+-------------+--------------------+--------------+--------------+------------+-------------+------------+--------+-----------+---------+------------+-------------+---------------+------------+--------------+----------+----------+--------------+\n",
      "|           REPORT_ID|    Stats Area|         Suburb|Postcode|            LGA Name|Total Units|Total Cas|Total Fats|Total SI|Total MI|Year|   Month|      Day|    Time|Area Speed|Position Type|    Horizontal Align|Vertical Align|    Other Feat|Road Surface|Moisture Cond|Weather Cond|DayNight| Crash Type|Unit Resp| Entity Code|CSEF Severity|  Traffic Ctrls|DUI Involved|Drugs Involved|  ACCLOC_X|  ACCLOC_Y|    UNIQUE_LOC|\n",
      "+--------------------+--------------+---------------+--------+--------------------+-----------+---------+----------+--------+--------+----+--------+---------+--------+----------+-------------+--------------------+--------------+--------------+------------+-------------+------------+--------+-----------+---------+------------+-------------+---------------+------------+--------------+----------+----------+--------------+\n",
      "| 2017-288-15/08/2019|2 Metropolitan|     PARA HILLS|    5096|   CITY OF SALISBURY|          2|       11|         0|       1|      10|2017| January|Wednesday|01:13 pm|       060|   T-Junction|       Straight road| Crest of Hill|Not Applicable|      Sealed|          Dry| Not Raining|Daylight|Right Angle|       01|Driver Rider|        3: SI|      Stop Sign|        null|          null| 1334428.9|1683032.96|13344291683033|\n",
      "|2016-3035-15/08/2019|2 Metropolitan|        HACKHAM|    5163| CITY OF ONKAPARINGA|          3|        9|         3|       5|       1|2016| January| Saturday|11:50 am|       080|   T-Junction|       Straight road|         Level|Not Applicable|      Sealed|          Dry| Not Raining|Daylight| Right Turn|       01|Driver Rider|     4: Fatal|     No Control|        null|          null|1320361.49|1645195.63|13203611645196|\n",
      "|2016-6630-15/08/2019|2 Metropolitan|  KANGAROO FLAT|    5118|LIGHT REGIONAL CO...|          3|        9|         0|       2|       7|2016|   April|Wednesday|09:00 pm|       100|  Not Divided|CURVED, VIEW OBSC...|         Level|Not Applicable|      Sealed|          Dry| Not Raining|   Night|    Head On|       01|Driver Rider|        3: SI|     No Control|        null|          null|1339316.32|1710314.92|13393161710315|\n",
      "|2019-11734-8/07/2020|2 Metropolitan|          STURT|    5047|CC MARION.       ...|          2|        9|         0|       1|       8|2019|November|   Sunday|07:25 pm|       060|   T-Junction|       Straight road|         Level|Not Applicable|      Sealed|          Dry| Not Raining|Daylight| Right Turn|       02|Driver Rider|        3: SI|Traffic Signals|        null|          null|1324428.84|1659884.95|13244291659885|\n",
      "|2016-14407-15/08/...|     3 Country|      STOCKWELL|    5355|THE BAROSSA COUNCIL.|          2|        8|         1|       6|       1|2016| October|   Sunday|03:46 pm|       100|  Not Divided|       Straight road| Crest of Hill|Not Applicable|    Unsealed|          Dry| Not Raining|Daylight|    Head On|       01|Driver Rider|     4: Fatal|     No Control|        null|          null|1373964.45|1723462.57|13739641723463|\n",
      "|2016-7073-15/08/2019|     3 Country|       MERRITON|    5523|PT.PIRIE CITY & D...|          2|        8|         4|       3|       1|2016|   April|   Sunday|12:35 pm|       110|  Not Divided|       Straight road|         Level|Not Applicable|      Sealed|          Dry| Not Raining|Daylight|    Head On|       01|Driver Rider|     4: Fatal|     No Control|        null|          null|1293759.89|1840109.96|12937601840110|\n",
      "|2015-2823-21/08/2019|     3 Country|         HAWKER|    5434|THE FLINDERS RANG...|          1|        8|         0|       0|       8|2015|   March|   Monday|06:00 pm|       110|  Not Divided|       Straight road|         Level|Not Applicable|      Sealed|          Dry| Not Raining|Daylight|  Roll Over|       01|Driver Rider|        2: MI|     No Control|        null|          null|1315077.61|2022309.34|13150782022309|\n",
      "|2015-12591-21/08/...|     3 Country|        MALLALA|    5502|DC MALLALA.      ...|          2|        7|         0|       2|       5|2015| October|   Sunday|02:30 pm|       100|   Cross Road|       Straight road|         Level|Not Applicable|    Unsealed|          Dry| Not Raining|Daylight|Right Angle|       01|Driver Rider|        3: SI|  Give Way Sign|        null|          null|1325122.01|1724860.95|13251221724861|\n",
      "|2015-13713-21/08/...|2 Metropolitan|ELIZABETH GROVE|    5112|   CITY OF PLAYFORD.|          2|        7|         0|       0|       7|2015|November|   Friday|03:42 pm|       080|   T-Junction|       Straight road|         Level|Not Applicable|      Sealed|          Dry| Not Raining|Daylight|   Rear End|       01|Driver Rider|        2: MI|     No Control|        null|          null|1336118.68|1691385.65|13361191691386|\n",
      "|2015-6965-21/08/2019|     3 Country|       BEAUFORT|    5550|YORKE PENINSULA C...|          3|        7|         3|       4|       0|2015|    June|   Monday|11:13 am|       100|   T-Junction|       Straight road|         Level|Not Applicable|      Sealed|          Dry| Not Raining|Daylight|    Head On|       09|       Other|     4: Fatal|     No Control|        null|          null|1287930.19|1761652.36|12879301761652|\n",
      "+--------------------+--------------+---------------+--------+--------------------+-----------+---------+----------+--------+--------+----+--------+---------+--------+----------+-------------+--------------------+--------------+--------------+------------+-------------+------------+--------+-----------+---------+------------+-------------+---------------+------------+--------------+----------+----------+--------------+\n",
      "only showing top 10 rows\n",
      "\n"
     ]
    }
   ],
   "source": [
    "d_frame_crash.select('*').withColumn('Total Cas',F.col('Total Cas').cast(IntegerType())).sort('Total Cas', ascending=False).show(10)\n",
    "\n",
    "\n",
    "####  Change column to integer and sort accordingly"
   ]
  },
  {
   "cell_type": "code",
   "execution_count": 61,
   "metadata": {},
   "outputs": [
    {
     "name": "stdout",
     "output_type": "stream",
     "text": [
      "+--------------------+-----------------+\n",
      "|          Crash Type|count(Total Fats)|\n",
      "+--------------------+-----------------+\n",
      "|           Roll Over|             3077|\n",
      "|  Hit Object on Road|              278|\n",
      "|      Hit Pedestrian|             1877|\n",
      "|    Hit Fixed Object|            11384|\n",
      "|               Other|              467|\n",
      "|          Side Swipe|             7402|\n",
      "|             Head On|             1283|\n",
      "|  Hit Parked Vehicle|             5353|\n",
      "|          Right Turn|             5651|\n",
      "|            Rear End|            19717|\n",
      "|          Hit Animal|             1096|\n",
      "|Left Road - Out o...|              626|\n",
      "|         Right Angle|            13795|\n",
      "+--------------------+-----------------+\n",
      "\n"
     ]
    }
   ],
   "source": [
    "d_frame_crash.select('Crash Type','Total Fats').groupby('Crash Type').agg(F.sum('Total Fats')).show()  #### grooupby and aggregate using um to ignore null records"
   ]
  },
  {
   "cell_type": "code",
   "execution_count": 64,
   "metadata": {},
   "outputs": [
    {
     "data": {
      "text/plain": [
       "72006"
      ]
     },
     "execution_count": 64,
     "metadata": {},
     "output_type": "execute_result"
    }
   ],
   "source": [
    "d_frame_crash.count()\n"
   ]
  },
  {
   "cell_type": "code",
   "execution_count": 65,
   "metadata": {},
   "outputs": [
    {
     "data": {
      "text/plain": [
       "153854"
      ]
     },
     "execution_count": 65,
     "metadata": {},
     "output_type": "execute_result"
    }
   ],
   "source": [
    "d_frame_units.count()"
   ]
  },
  {
   "cell_type": "code",
   "execution_count": null,
   "metadata": {},
   "outputs": [],
   "source": []
  },
  {
   "cell_type": "code",
   "execution_count": 67,
   "metadata": {},
   "outputs": [
    {
     "name": "stdout",
     "output_type": "stream",
     "text": [
      "+--------------------+--------------+-----------------+--------+--------------------+-----------+---------+----------+--------+--------+----+---------+---------+--------+----------+-------------+-----------------+--------------+--------------------+------------+-------------+------------+--------+------------------+---------+------------+-------------+---------------+------------+--------------+----------+----------+--------------+--------------------+-------+---------+-------------+--------------------+--------+-------------------+-------+----+---------+-------------+------------+----------+--------------------+----------------+--------+--------+----+\n",
      "|           REPORT_ID|    Stats Area|           Suburb|Postcode|            LGA Name|Total Units|Total Cas|Total Fats|Total SI|Total MI|Year|    Month|      Day|    Time|Area Speed|Position Type| Horizontal Align|Vertical Align|          Other Feat|Road Surface|Moisture Cond|Weather Cond|DayNight|        Crash Type|Unit Resp| Entity Code|CSEF Severity|  Traffic Ctrls|DUI Involved|Drugs Involved|  ACCLOC_X|  ACCLOC_Y|    UNIQUE_LOC|           REPORT_ID|Unit No|No Of Cas|Veh Reg State|           Unit Type|Veh Year|Direction Of Travel|    Sex| Age|Lic State|Licence Class|Licence Type|    Towing|       Unit Movement|Number Occupants|Postcode|Rollover|Fire|\n",
      "+--------------------+--------------+-----------------+--------+--------------------+-----------+---------+----------+--------+--------+----+---------+---------+--------+----------+-------------+-----------------+--------------+--------------------+------------+-------------+------------+--------+------------------+---------+------------+-------------+---------------+------------+--------------+----------+----------+--------------+--------------------+-------+---------+-------------+--------------------+--------+-------------------+-------+----+---------+-------------+------------+----------+--------------------+----------------+--------+--------+----+\n",
      "|2015-10092-21/08/...|2 Metropolitan|  MODBURY HEIGHTS|    5092|CITY OF TEA TREE ...|          2|        0|         0|       0|       0|2015|   August|   Monday|06:34 pm|       060| Divided Road|    Straight road|         Level|      Not Applicable|      Sealed|          Dry| Not Raining|   Night|           Head On|       02|Driver Rider|       1: PDO|     No Control|        null|          null|1336784.69|1683214.16|13367851683214|2015-10092-21/08/...|     01|        0|           SA|       Station Wagon|    2005|               East| Female| 063|       SA|           C |        Full|Not Towing|      Straight Ahead|             002|    5092|    null|null|\n",
      "|2015-10092-21/08/...|2 Metropolitan|  MODBURY HEIGHTS|    5092|CITY OF TEA TREE ...|          2|        0|         0|       0|       0|2015|   August|   Monday|06:34 pm|       060| Divided Road|    Straight road|         Level|      Not Applicable|      Sealed|          Dry| Not Raining|   Night|           Head On|       02|Driver Rider|       1: PDO|     No Control|        null|          null|1336784.69|1683214.16|13367851683214|2015-10092-21/08/...|     02|        0|           SA|  Motor Cars - Sedan|    2012|               West| Female| 033|       SA|           C |    Learners|Not Towing|      Straight Ahead|             002|    5092|    null|null|\n",
      "|2015-10488-21/08/...|2 Metropolitan|ONKAPARINGA HILLS|    5163| CITY OF ONKAPARINGA|          2|        2|         0|       0|       2|2015|September| Thursday|09:28 am|       080|  Not Divided|CURVED, VIEW OPEN|         Slope|      Not Applicable|      Sealed|          Wet|     Raining|Daylight|           Head On|       02|Driver Rider|        2: MI|     No Control|        null|          null|1326581.37|1650092.42|13265811650092|2015-10488-21/08/...|     01|        1|           SA|RIGID TRUCK LGE G...|    2012|         South West|   Male| 057|       SA|         HCR |        Full|Not Towing|Stopped on Carria...|             001|    5159|    null|null|\n",
      "|2015-10488-21/08/...|2 Metropolitan|ONKAPARINGA HILLS|    5163| CITY OF ONKAPARINGA|          2|        2|         0|       0|       2|2015|September| Thursday|09:28 am|       080|  Not Divided|CURVED, VIEW OPEN|         Slope|      Not Applicable|      Sealed|          Wet|     Raining|Daylight|           Head On|       02|Driver Rider|        2: MI|     No Control|        null|          null|1326581.37|1650092.42|13265811650092|2015-10488-21/08/...|     02|        1|           SA|  Motor Cars - Sedan|    2006|         North East| Female| 019|       SA|           C |        Full|Not Towing|      Straight Ahead|             001|    5163|    null|null|\n",
      "|2015-10935-21/08/...|2 Metropolitan|         GOODWOOD|    5034|       CITY OF UNLEY|          2|        1|         0|       0|       1|2015|September| Thursday|07:35 am|       050| Divided Road|    Straight road|         Level|      Not Applicable|      Sealed|          Dry| Not Raining|Daylight|Hit Parked Vehicle|       02|   Passenger|        2: MI|     No Control|        null|          null|1327457.22|1667919.87|13274571667920|2015-10935-21/08/...|     01|        1|         null|         Pedal Cycle|    null|              North|   Male| 040|     null|         null|        null|      null|      Straight Ahead|             001|    5041|    null|null|\n",
      "|2015-10935-21/08/...|2 Metropolitan|         GOODWOOD|    5034|       CITY OF UNLEY|          2|        1|         0|       0|       1|2015|September| Thursday|07:35 am|       050| Divided Road|    Straight road|         Level|      Not Applicable|      Sealed|          Dry| Not Raining|Daylight|Hit Parked Vehicle|       02|   Passenger|        2: MI|     No Control|        null|          null|1327457.22|1667919.87|13274571667920|2015-10935-21/08/...|     02|        0|           SA|  Motor Cars - Sedan|    2003|              North|   Male| 025|       SA|           C |        Full|Not Towing|              Parked|             002|    5159|    null|null|\n",
      "|2015-11242-21/08/...|     3 Country|            ANAMA|    5464|CLARE AND GILBERT...|          2|        1|         0|       0|       1|2015|September|  Tuesday|08:00 am|       100|  Not Divided|    Straight road|         Level|Bridge, Culvert, ...|      Sealed|          Dry| Not Raining|Daylight|  Hit Fixed Object|       01|Driver Rider|        2: MI|     No Control|        null|          null|1331509.52|1806191.48|13315101806191|2015-11242-21/08/...|     01|        1|           SA|       Station Wagon|    1999|              North| Female| 070|       SA|           C |        Full|   Caravan|      Straight Ahead|             002|    5252|       Y|null|\n",
      "|2015-11242-21/08/...|     3 Country|            ANAMA|    5464|CLARE AND GILBERT...|          2|        1|         0|       0|       1|2015|September|  Tuesday|08:00 am|       100|  Not Divided|    Straight road|         Level|Bridge, Culvert, ...|      Sealed|          Dry| Not Raining|Daylight|  Hit Fixed Object|       01|Driver Rider|        2: MI|     No Control|        null|          null|1331509.52|1806191.48|13315101806191|2015-11242-21/08/...|     02|        0|         null|          Guard Rail|    null|               null|   null|null|     null|         null|        null|      null|                null|            null|    null|    null|null|\n",
      "|2015-11344-21/08/...|2 Metropolitan|         HAWTHORN|    5062|CC MITCHAM.      ...|          2|        0|         0|       0|       0|2015|September| Thursday|09:10 am|       060|   T-Junction|    Straight road|         Level|      Not Applicable|      Sealed|          Dry| Not Raining|Daylight|        Right Turn|       01|Driver Rider|       1: PDO|     No Control|        null|          null|1329168.34|1665158.49|13291681665158|2015-11344-21/08/...|     01|        0|           SA|  Motor Cars - Sedan|    2012|              South| Female| 054|       SA|           C |        Full|Not Towing|          Right Turn|             001|    5061|    null|null|\n",
      "|2015-11344-21/08/...|2 Metropolitan|         HAWTHORN|    5062|CC MITCHAM.      ...|          2|        0|         0|       0|       0|2015|September| Thursday|09:10 am|       060|   T-Junction|    Straight road|         Level|      Not Applicable|      Sealed|          Dry| Not Raining|Daylight|        Right Turn|       01|Driver Rider|       1: PDO|     No Control|        null|          null|1329168.34|1665158.49|13291681665158|2015-11344-21/08/...|     02|        0|           SA|  Motor Cars - Sedan|    2013|              North|   Male| 037|       SA|         C R |        Full|Not Towing|      Straight Ahead|             001|    5039|    null|null|\n",
      "|2015-11710-21/08/...|2 Metropolitan|    MORPHETT VALE|    5162| CITY OF ONKAPARINGA|          2|        0|         0|       0|       0|2015|  October| Saturday|01:00 pm|       070|   Cross Road|    Straight road|         Level|      Not Applicable|      Sealed|          Dry| Not Raining|Daylight|          Rear End|       02|Driver Rider|       1: PDO|Traffic Signals|        null|          null| 1319739.6|1650989.54|13197401650990|2015-11710-21/08/...|     01|        0|           SA|  Motor Cars - Sedan|    2011|               West| Female| 031|       SA|           C |        Full|Not Towing|Stopped on Carria...|             001|    5162|    null|null|\n",
      "|2015-11710-21/08/...|2 Metropolitan|    MORPHETT VALE|    5162| CITY OF ONKAPARINGA|          2|        0|         0|       0|       0|2015|  October| Saturday|01:00 pm|       070|   Cross Road|    Straight road|         Level|      Not Applicable|      Sealed|          Dry| Not Raining|Daylight|          Rear End|       02|Driver Rider|       1: PDO|Traffic Signals|        null|          null| 1319739.6|1650989.54|13197401650990|2015-11710-21/08/...|     02|        0|           SA|  Motor Cars - Sedan|    2008|         South West| Female| 032|       SA|           C |  Unlicenced|Not Towing|           Left Turn|             001|    5164|    null|null|\n",
      "|2015-12055-21/08/...|2 Metropolitan|     HAPPY VALLEY|    5159| CITY OF ONKAPARINGA|          2|        0|         0|       0|       0|2015|  October| Saturday|04:15 am|       080|   Cross Road|    Straight road|         Slope|      Not Applicable|      Sealed|          Dry| Not Raining|   Night|  Hit Fixed Object|       01|Driver Rider|       1: PDO|Traffic Signals|        null|          null|1323446.95|1654232.01|13234471654232|2015-12055-21/08/...|     01|        0|           SA|             Utility|    2002|              South|Unknown| XXX|  UNKNOWN|           XX|     Unknown|   Unknown|      Straight Ahead|             001|    XXXX|    null|null|\n",
      "|2015-12055-21/08/...|2 Metropolitan|     HAPPY VALLEY|    5159| CITY OF ONKAPARINGA|          2|        0|         0|       0|       0|2015|  October| Saturday|04:15 am|       080|   Cross Road|    Straight road|         Slope|      Not Applicable|      Sealed|          Dry| Not Raining|   Night|  Hit Fixed Object|       01|Driver Rider|       1: PDO|Traffic Signals|        null|          null|1323446.95|1654232.01|13234471654232|2015-12055-21/08/...|     02|        0|         null|   Pole - not Stobie|    null|               null|   null|null|     null|         null|        null|      null|                null|            null|    null|    null|null|\n",
      "|2015-12160-21/08/...|2 Metropolitan|        ROSE PARK|    5067|    CITY OF BURNSIDE|          2|        1|         0|       0|       1|2015|  October|Wednesday|07:20 am|       050|   Cross Road|    Straight road|         Level|      Not Applicable|      Sealed|          Dry| Not Raining|Daylight|       Right Angle|       02|Driver Rider|        2: MI|     Roundabout|        null|          null|1331485.25|1669885.89|13314851669886|2015-12160-21/08/...|     01|        1|         null|         Pedal Cycle|    null|              North|   Male| 045|     null|         null|        null|      null|      Straight Ahead|             001|    5041|    null|null|\n",
      "|2015-12160-21/08/...|2 Metropolitan|        ROSE PARK|    5067|    CITY OF BURNSIDE|          2|        1|         0|       0|       1|2015|  October|Wednesday|07:20 am|       050|   Cross Road|    Straight road|         Level|      Not Applicable|      Sealed|          Dry| Not Raining|Daylight|       Right Angle|       02|Driver Rider|        2: MI|     Roundabout|        null|          null|1331485.25|1669885.89|13314851669886|2015-12160-21/08/...|     02|        0|           SA|       Station Wagon|    2012|               East|   Male| 053|       SA|           HR|        Full|Not Towing|      Straight Ahead|             002|    5067|    null|null|\n",
      "|2015-12203-21/08/...|2 Metropolitan|          URRBRAE|    5064|       CITY OF UNLEY|          4|        0|         0|       0|       0|2015|  October| Thursday|02:12 pm|       060|  Not Divided|    Straight road|         Level|      Not Applicable|      Sealed|          Dry| Not Raining|Daylight|          Rear End|       01|Driver Rider|       1: PDO|     No Control|        null|          null|1331663.85|1666317.68|13316641666318|2015-12203-21/08/...|     01|        0|           SA|  Motor Cars - Sedan|    2008|               East| Female| 019|       SA|           C |        Full|Not Towing|      Straight Ahead|             001|    5241|    null|null|\n",
      "|2015-12203-21/08/...|2 Metropolitan|          URRBRAE|    5064|       CITY OF UNLEY|          4|        0|         0|       0|       0|2015|  October| Thursday|02:12 pm|       060|  Not Divided|    Straight road|         Level|      Not Applicable|      Sealed|          Dry| Not Raining|Daylight|          Rear End|       01|Driver Rider|       1: PDO|     No Control|        null|          null|1331663.85|1666317.68|13316641666318|2015-12203-21/08/...|     02|        0|           SA|  Motor Cars - Sedan|    2015|               East|   Male| 056|       SA|           C |        Full|Not Towing|      Straight Ahead|             001|    5047|    null|null|\n",
      "|2015-12203-21/08/...|2 Metropolitan|          URRBRAE|    5064|       CITY OF UNLEY|          4|        0|         0|       0|       0|2015|  October| Thursday|02:12 pm|       060|  Not Divided|    Straight road|         Level|      Not Applicable|      Sealed|          Dry| Not Raining|Daylight|          Rear End|       01|Driver Rider|       1: PDO|     No Control|        null|          null|1331663.85|1666317.68|13316641666318|2015-12203-21/08/...|     03|        0|           SA|  Motor Cars - Sedan|    2001|               East|   Male| 029|       SA|         C R |        Full|Not Towing|      Straight Ahead|             002|    5000|    null|null|\n",
      "|2015-12203-21/08/...|2 Metropolitan|          URRBRAE|    5064|       CITY OF UNLEY|          4|        0|         0|       0|       0|2015|  October| Thursday|02:12 pm|       060|  Not Divided|    Straight road|         Level|      Not Applicable|      Sealed|          Dry| Not Raining|Daylight|          Rear End|       01|Driver Rider|       1: PDO|     No Control|        null|          null|1331663.85|1666317.68|13316641666318|2015-12203-21/08/...|     04|        0|           SA|  Motor Cars - Sedan|    2012|               East|   Male| 059|       SA|           C |        Full|Not Towing|Stopped on Carria...|             001|    5155|    null|null|\n",
      "+--------------------+--------------+-----------------+--------+--------------------+-----------+---------+----------+--------+--------+----+---------+---------+--------+----------+-------------+-----------------+--------------+--------------------+------------+-------------+------------+--------+------------------+---------+------------+-------------+---------------+------------+--------------+----------+----------+--------------+--------------------+-------+---------+-------------+--------------------+--------+-------------------+-------+----+---------+-------------+------------+----------+--------------------+----------------+--------+--------+----+\n",
      "only showing top 20 rows\n",
      "\n"
     ]
    }
   ],
   "source": [
    "join_frame = d_frame_crash.join(d_frame_units, d_frame_crash.REPORT_ID == d_frame_units.REPORT_ID,how='inner') \n",
    "#join_frame.show(20)           ##### inner join on dataframe"
   ]
  },
  {
   "cell_type": "code",
   "execution_count": 183,
   "metadata": {},
   "outputs": [
    {
     "name": "stdout",
     "output_type": "stream",
     "text": [
      "+-------------------+--------------+\n",
      "|             Suburb|sum(Total Cas)|\n",
      "+-------------------+--------------+\n",
      "|      FLINDERS PARK|           8.0|\n",
      "|       POOGINAGORIC|           1.0|\n",
      "|     TEA TREE GULLY|           1.0|\n",
      "|            HACKHAM|           3.0|\n",
      "|   MEDINDIE GARDENS|           0.0|\n",
      "|           WISANGER|           1.0|\n",
      "|            CUMMINS|           0.0|\n",
      "|       BASKET RANGE|           0.0|\n",
      "|MURRAY BRIDGE SOUTH|           0.0|\n",
      "|      GILLES PLAINS|           7.0|\n",
      "|             HAWKER|           0.0|\n",
      "|           BEAUFORT|           1.0|\n",
      "|             MAGILL|           7.0|\n",
      "|            ECHUNGA|           1.0|\n",
      "|            CULTANA|           1.0|\n",
      "|        EDWARDSTOWN|           6.0|\n",
      "|        RISDON PARK|           1.0|\n",
      "|          THORNGATE|           1.0|\n",
      "|       ANDREWS FARM|          12.0|\n",
      "|       TORRENSVILLE|           5.0|\n",
      "+-------------------+--------------+\n",
      "only showing top 20 rows\n",
      "\n"
     ]
    }
   ],
   "source": [
    "join_frame.select('Suburb','Total Cas').filter(join_frame['Licence Type'] == \"Unlicenced\").groupby('Suburb').agg(F.sum('Total Cas')).show()\n",
    "\n",
    "\n",
    "##### FILTER DATA BASED ON licence type and aggregate count to get total count"
   ]
  },
  {
   "cell_type": "markdown",
   "metadata": {},
   "source": [
    "####  Question 2.3"
   ]
  },
  {
   "cell_type": "markdown",
   "metadata": {},
   "source": [
    "#### 2.3.1"
   ]
  },
  {
   "cell_type": "code",
   "execution_count": 72,
   "metadata": {
    "scrolled": true
   },
   "outputs": [
    {
     "name": "stdout",
     "output_type": "stream",
     "text": [
      "+-------------+--------------------+\n",
      "|CSEF Severity|count(CSEF Severity)|\n",
      "+-------------+--------------------+\n",
      "|     4: Fatal|                 451|\n",
      "|        2: MI|               21881|\n",
      "|       1: PDO|               46696|\n",
      "|        3: SI|                2978|\n",
      "+-------------+--------------------+\n",
      "\n"
     ]
    }
   ],
   "source": [
    "d_frame_crash.select('CSEF Severity').groupby('CSEF Severity').agg(F.count('CSEF Severity')).show()"
   ]
  },
  {
   "cell_type": "markdown",
   "metadata": {},
   "source": [
    "######  most common is property damage "
   ]
  },
  {
   "cell_type": "markdown",
   "metadata": {},
   "source": [
    "###### 2.3.2.a   When the driver is tested positive on drugs "
   ]
  },
  {
   "cell_type": "code",
   "execution_count": 204,
   "metadata": {
    "scrolled": false
   },
   "outputs": [
    {
     "name": "stdout",
     "output_type": "stream",
     "text": [
      "+-------------+------------------+-------------------+\n",
      "|CSEF Severity|count_each_ondrugs|         percentage|\n",
      "+-------------+------------------+-------------------+\n",
      "|     4: Fatal|                82|0.11387939893897732|\n",
      "|        2: MI|               749|  1.040191095186512|\n",
      "|       1: PDO|               176| 0.2444240757714635|\n",
      "|        3: SI|               247| 0.3430269699747243|\n",
      "+-------------+------------------+-------------------+\n",
      "\n"
     ]
    }
   ],
   "source": [
    "temp = d_frame_crash.filter(d_frame_crash['Drugs Involved'] == \"Y\").select('CSEF Severity').groupby('CSEF Severity').agg(F.count('CSEF Severity').alias('count_each_ondrugs'))\n",
    "\n",
    "temp_total = d_frame_crash.select('CSEF Severity').count()\n",
    "\n",
    "\n",
    "temp_1 = temp.withColumn('percentage',temp.count_each_ondrugs/ temp_total*100)\n",
    "                                                                                      ### calculate percentage based subsetted data and  total records\n",
    "temp_1.show()"
   ]
  },
  {
   "cell_type": "code",
   "execution_count": 205,
   "metadata": {},
   "outputs": [
    {
     "data": {
      "text/plain": [
       "72006"
      ]
     },
     "execution_count": 205,
     "metadata": {},
     "output_type": "execute_result"
    }
   ],
   "source": [
    "temp_total"
   ]
  },
  {
   "cell_type": "code",
   "execution_count": 206,
   "metadata": {},
   "outputs": [
    {
     "name": "stdout",
     "output_type": "stream",
     "text": [
      "+-------------+-----------------+-------------------+\n",
      "|CSEF Severity|count_each_on_dui|         percentage|\n",
      "+-------------+-----------------+-------------------+\n",
      "|     4: Fatal|               79|0.10971307946560009|\n",
      "|        2: MI|              737| 1.0235258172930033|\n",
      "|       1: PDO|             1173| 1.6290309140904926|\n",
      "|        3: SI|              259| 0.3596922478682332|\n",
      "+-------------+-----------------+-------------------+\n",
      "\n"
     ]
    }
   ],
   "source": [
    "temp = d_frame_crash.filter(d_frame_crash['DUI Involved'] == \"Y\").select('CSEF Severity').groupby('CSEF Severity').agg(F.count('CSEF Severity').alias('count_each_on_dui'))\n",
    "\n",
    "temp_total = d_frame_crash.select('CSEF Severity').count()\n",
    "\n",
    "\n",
    "temp_2 = temp.withColumn('percentage',temp.count_each_on_dui/ temp_total*100)\n",
    "\n",
    "temp_2.show()"
   ]
  },
  {
   "cell_type": "code",
   "execution_count": 207,
   "metadata": {},
   "outputs": [
    {
     "name": "stdout",
     "output_type": "stream",
     "text": [
      "+-------------+------------------+--------------------+\n",
      "|CSEF Severity|count_each_on_both|          percentage|\n",
      "+-------------+------------------+--------------------+\n",
      "|     4: Fatal|                27| 0.03749687526039497|\n",
      "|        2: MI|                89| 0.12360081104352415|\n",
      "|       1: PDO|                24|0.033330555787017754|\n",
      "|        3: SI|                35| 0.04860706052273422|\n",
      "+-------------+------------------+--------------------+\n",
      "\n"
     ]
    }
   ],
   "source": [
    "temp = d_frame_crash.filter(d_frame_crash['Drugs Involved'] == \"Y\").filter(d_frame_crash['DUI Involved'] == \"Y\").select('CSEF Severity').groupby('CSEF Severity').agg(F.count('CSEF Severity').alias('count_each_on_both'))\n",
    "\n",
    "temp_total = d_frame_crash.count()\n",
    "\n",
    "\n",
    "temp_3 = temp.withColumn('percentage',temp['count_each_on_both']/ temp_total*100)\n",
    "\n",
    "temp_3.show()"
   ]
  },
  {
   "cell_type": "code",
   "execution_count": 208,
   "metadata": {},
   "outputs": [
    {
     "name": "stdout",
     "output_type": "stream",
     "text": [
      "+-------------+------------------+-------------------+\n",
      "|CSEF Severity|count_each_neither|         percentage|\n",
      "+-------------+------------------+-------------------+\n",
      "|     4: Fatal|               317|0.44024109102019277|\n",
      "|        2: MI|             20484|  28.44762936421965|\n",
      "|       1: PDO|             45371|  63.01002694219926|\n",
      "|        3: SI|              2507| 3.4816543065855625|\n",
      "+-------------+------------------+-------------------+\n",
      "\n"
     ]
    }
   ],
   "source": [
    "temp = d_frame_crash.filter(d_frame_crash['Drugs Involved'].isNull()).filter(d_frame_crash['DUI Involved'].isNull()).select('CSEF Severity').groupby('CSEF Severity').agg(F.count('CSEF Severity').alias('count_each_neither'))\n",
    "\n",
    "temp_total = d_frame_crash.count()\n",
    "\n",
    "\n",
    "temp_4 = temp.withColumn('percentage',temp['count_each_neither']/ temp_total*100)\n",
    "\n",
    "temp_4.show()"
   ]
  },
  {
   "cell_type": "code",
   "execution_count": 226,
   "metadata": {},
   "outputs": [
    {
     "name": "stdout",
     "output_type": "stream",
     "text": [
      "+-------------+------------------+-----------------+------------------+------------------+\n",
      "|CSEF Severity|count_each_ondrugs|count_each_on_dui|count_each_on_both|count_each_neither|\n",
      "+-------------+------------------+-----------------+------------------+------------------+\n",
      "|     4: Fatal|                82|               79|                27|               317|\n",
      "|        2: MI|               749|              737|                89|             20484|\n",
      "|       1: PDO|               176|             1173|                24|             45371|\n",
      "|        3: SI|               247|              259|                35|              2507|\n",
      "+-------------+------------------+-----------------+------------------+------------------+\n",
      "\n"
     ]
    }
   ],
   "source": [
    "temp_1 = temp_1.drop(\"percentage\")\n",
    "temp_2 = temp_2.drop(\"percentage\")\n",
    "temp_3 = temp_3.drop(\"percentage\")\n",
    "temp_4 = temp_4.drop(\"percentage\")\n",
    "                                                                  #### join two tables at a time without duplicating columns \n",
    "table_1= temp_1.join(temp_2, ['CSEF Severity'],how='left')\n",
    "\n",
    "table_2= temp_3.join(temp_4,['CSEF Severity'],how='left')\n",
    "\n",
    "table_final = table_1.join(table_2, ['CSEF Severity'],how='left') #### final table formed by joining the previous two tables\n",
    "\n",
    "table_final.show()\n",
    "\n",
    "\n"
   ]
  },
  {
   "cell_type": "code",
   "execution_count": 236,
   "metadata": {},
   "outputs": [
    {
     "data": {
      "text/plain": [
       "<AxesSubplot:>"
      ]
     },
     "execution_count": 236,
     "metadata": {},
     "output_type": "execute_result"
    },
    {
     "data": {
      "image/png": "[encoded data removed]",
      "text/plain": [
       "<Figure size 432x288 with 1 Axes>"
      ]
     },
     "metadata": {
      "needs_background": "light"
     },
     "output_type": "display_data"
    }
   ],
   "source": [
    "plot_df = table_final.toPandas()\n",
    "\n",
    "plot_df.plot(kind=\"bar\")          ### plot bar graph"
   ]
  },
  {
   "cell_type": "markdown",
   "metadata": {},
   "source": [
    "#####  Quetion 2.4   "
   ]
  },
  {
   "cell_type": "markdown",
   "metadata": {},
   "source": [
    "###### 2.4.1       Dataframe operation "
   ]
  },
  {
   "cell_type": "code",
   "execution_count": 121,
   "metadata": {},
   "outputs": [
    {
     "name": "stdout",
     "output_type": "stream",
     "text": [
      "+-------------------------------------------------+-------+----+------------+---------+\n",
      "|concat(Year, -, Month, -, Day AS `Date_And_Time`)|    Sex| Age|Licence Type|No Of Cas|\n",
      "+-------------------------------------------------+-------+----+------------+---------+\n",
      "|                             2016-November-Wed...|   Male| 056|        Full|        0|\n",
      "|                             2016-November-Wed...|   Male| 072|        null|        1|\n",
      "|                             2016-November-Tue...|   Male| 056|        null|        0|\n",
      "|                             2016-November-Tue...| Female| 027|        null|        1|\n",
      "|                             2016-November-Tue...| Female| 032|        Full|        0|\n",
      "|                             2016-November-Tue...|Unknown| XXX|     Unknown|        0|\n",
      "|                             2016-November-Tue...|   Male| 022|     Unknown|        0|\n",
      "|                             2016-November-Tue...|   Male| 020|     Unknown|        0|\n",
      "|                             2016-November-Monday|Unknown| XXX|     Unknown|        0|\n",
      "|                             2016-November-Monday|   Male| 042|        Full|        0|\n",
      "|                             2016-November-Monday|   null|null|        null|        0|\n",
      "|                             2016-November-Monday|   Male| 026|     Unknown|        0|\n",
      "|                             2016-November-Monday|   Male| 038|        Full|        0|\n",
      "|                             2016-November-Monday|   Male| 036|        Full|        0|\n",
      "|                             2016-November-Tue...|   Male| 025|     Unknown|        0|\n",
      "|                             2016-November-Tue...|Unknown| XXX|     Unknown|        0|\n",
      "|                             2016-November-Wed...| Female| 065|        Full|        1|\n",
      "|                             2016-November-Wed...|Unknown| XXX|     Unknown|        0|\n",
      "|                             2016-November-Wed...|   Male| 063|        Full|        0|\n",
      "|                             2016-November-Wed...|   null|null|        null|        0|\n",
      "+-------------------------------------------------+-------+----+------------+---------+\n",
      "only showing top 20 rows\n",
      "\n",
      "CPU times: user 25.3 ms, sys: 16.5 ms, total: 41.8 ms\n",
      "Wall time: 2.41 s\n"
     ]
    }
   ],
   "source": [
    "%%time\n",
    "\n",
    "\n",
    "join_frame.select(concat(col(\"Year\"),lit(\"-\"),col(\"Month\"),lit(\"-\"),col(\"Day\").alias(\"Date_And_Time\")),'Sex','Age','Licence Type','No Of Cas').filter(join_frame['Suburb'] == \"ADELAIDE\").show()\n",
    "\n"
   ]
  },
  {
   "cell_type": "code",
   "execution_count": null,
   "metadata": {},
   "outputs": [],
   "source": []
  },
  {
   "cell_type": "markdown",
   "metadata": {},
   "source": [
    "######   Rdd operation"
   ]
  },
  {
   "cell_type": "code",
   "execution_count": 122,
   "metadata": {},
   "outputs": [
    {
     "name": "stdout",
     "output_type": "stream",
     "text": [
      "CPU times: user 4.93 ms, sys: 0 ns, total: 4.93 ms\n",
      "Wall time: 559 ms\n"
     ]
    }
   ],
   "source": [
    "%%time\n",
    "\n",
    "\n",
    "\n",
    "\n",
    "\n",
    "\n",
    "\n",
    "\n",
    "\n",
    "\n",
    "\n"
   ]
  },
  {
   "cell_type": "markdown",
   "metadata": {},
   "source": [
    "##### Spark SQL"
   ]
  },
  {
   "cell_type": "code",
   "execution_count": 138,
   "metadata": {},
   "outputs": [
    {
     "name": "stdout",
     "output_type": "stream",
     "text": [
      "+--------------------+--------+-------+----+------------+----------------+\n",
      "|                Date|    Time|    Sex| Age|Licence_Type|No_Of_Casualties|\n",
      "+--------------------+--------+-------+----+------------+----------------+\n",
      "|2016-November-Wed...|01:45 pm|   Male| 056|        Full|               0|\n",
      "|2016-November-Wed...|01:45 pm|   Male| 072|        null|               1|\n",
      "|2016-November-Tue...|03:40 pm|   Male| 056|        null|               0|\n",
      "|2016-November-Tue...|03:40 pm| Female| 027|        null|               1|\n",
      "|2016-November-Tue...|05:00 pm| Female| 032|        Full|               0|\n",
      "|2016-November-Tue...|05:00 pm|Unknown| XXX|     Unknown|               0|\n",
      "|2016-November-Tue...|05:40 pm|   Male| 022|     Unknown|               0|\n",
      "|2016-November-Tue...|05:40 pm|   Male| 020|     Unknown|               0|\n",
      "|2016-November-Monday|11:26 pm|Unknown| XXX|     Unknown|               0|\n",
      "|2016-November-Monday|11:26 pm|   Male| 042|        Full|               0|\n",
      "|2016-November-Monday|11:26 pm|   null|null|        null|               0|\n",
      "|2016-November-Monday|11:30 pm|   Male| 026|     Unknown|               0|\n",
      "|2016-November-Monday|11:30 pm|   Male| 038|        Full|               0|\n",
      "|2016-November-Monday|11:30 pm|   Male| 036|        Full|               0|\n",
      "|2016-November-Tue...|05:05 pm|   Male| 025|     Unknown|               0|\n",
      "|2016-November-Tue...|05:05 pm|Unknown| XXX|     Unknown|               0|\n",
      "|2016-November-Wed...|03:30 pm| Female| 065|        Full|               1|\n",
      "|2016-November-Wed...|03:30 pm|Unknown| XXX|     Unknown|               0|\n",
      "|2016-November-Wed...|02:20 pm|   Male| 063|        Full|               0|\n",
      "|2016-November-Wed...|02:20 pm|   null|null|        null|               0|\n",
      "+--------------------+--------+-------+----+------------+----------------+\n",
      "only showing top 20 rows\n",
      "\n",
      "CPU times: user 5.7 ms, sys: 4.58 ms, total: 10.3 ms\n",
      "Wall time: 2.78 s\n"
     ]
    }
   ],
   "source": [
    "%%time\n",
    "\n",
    "\n",
    "\n",
    "d_new_units = d_frame_crash.withColumnRenamed(\"Licence Type\",\"Licence_Type\")\\\n",
    ".withColumnRenamed(\"No Of Cas\",\"No_Of_Casualties\")\n",
    "\n",
    "\n",
    "d_frame_crash.createOrReplaceTempView(\"df_crash_sql\")\n",
    "d_new_units.createOrReplaceTempView(\"df_units_sql\")\n",
    "\n",
    "\n",
    "\n",
    "\n",
    "query_sql = spark.sql(''' SELECT CONCAT(cr.Year, '-',cr.Month ,'-',cr.Day) AS Date, cr.Time ,un.Sex , un.Age , un.Licence_Type, un.No_Of_Casualties\n",
    "                         FROM df_crash_sql cr JOIN df_units_sql un\n",
    "                         ON cr.REPORT_ID = un.REPORT_ID\n",
    "                         Where cr.Suburb = \"ADELAIDE\"\n",
    "                         ''')\n",
    "query_sql.show()"
   ]
  },
  {
   "cell_type": "markdown",
   "metadata": {},
   "source": [
    "###### 2.4.2      Dataframe operation  "
   ]
  },
  {
   "cell_type": "code",
   "execution_count": 139,
   "metadata": {},
   "outputs": [
    {
     "name": "stdout",
     "output_type": "stream",
     "text": [
      "+-------------------+----------------+\n",
      "|             Suburb|count(Total Cas)|\n",
      "+-------------------+----------------+\n",
      "|      FLINDERS PARK|              11|\n",
      "|       POOGINAGORIC|               1|\n",
      "|     TEA TREE GULLY|               1|\n",
      "|            HACKHAM|               4|\n",
      "|   MEDINDIE GARDENS|               1|\n",
      "|           WISANGER|               1|\n",
      "|            CUMMINS|               1|\n",
      "|       BASKET RANGE|               1|\n",
      "|MURRAY BRIDGE SOUTH|               1|\n",
      "|      GILLES PLAINS|               6|\n",
      "|             HAWKER|               1|\n",
      "|           BEAUFORT|               1|\n",
      "|             MAGILL|               5|\n",
      "|            ECHUNGA|               1|\n",
      "|            CULTANA|               1|\n",
      "|        EDWARDSTOWN|              12|\n",
      "|        RISDON PARK|               2|\n",
      "|          THORNGATE|               2|\n",
      "|       ANDREWS FARM|              12|\n",
      "|       TORRENSVILLE|              12|\n",
      "+-------------------+----------------+\n",
      "only showing top 20 rows\n",
      "\n",
      "CPU times: user 14.8 ms, sys: 0 ns, total: 14.8 ms\n",
      "Wall time: 2.85 s\n"
     ]
    }
   ],
   "source": [
    "%%time\n",
    "\n",
    "\n",
    "\n",
    "join_frame.select('Suburb','Total Cas').filter(join_frame['Licence Type'] == \"Unlicenced\").groupby('Suburb').agg(F.count('Total Cas')).show()"
   ]
  },
  {
   "cell_type": "code",
   "execution_count": 150,
   "metadata": {},
   "outputs": [
    {
     "name": "stdout",
     "output_type": "stream",
     "text": [
      "+------------------------------+-------------------+\n",
      "|count(Total_no_of_casualities)|             Suburb|\n",
      "+------------------------------+-------------------+\n",
      "|                            11|      FLINDERS PARK|\n",
      "|                             1|       POOGINAGORIC|\n",
      "|                             1|     TEA TREE GULLY|\n",
      "|                             4|            HACKHAM|\n",
      "|                             1|   MEDINDIE GARDENS|\n",
      "|                             1|           WISANGER|\n",
      "|                             1|            CUMMINS|\n",
      "|                             1|       BASKET RANGE|\n",
      "|                             1|MURRAY BRIDGE SOUTH|\n",
      "|                             6|      GILLES PLAINS|\n",
      "|                             1|             HAWKER|\n",
      "|                             1|           BEAUFORT|\n",
      "|                             5|             MAGILL|\n",
      "|                             1|            ECHUNGA|\n",
      "|                             1|            CULTANA|\n",
      "|                            12|        EDWARDSTOWN|\n",
      "|                             2|        RISDON PARK|\n",
      "|                             2|          THORNGATE|\n",
      "|                            12|       ANDREWS FARM|\n",
      "|                            12|       TORRENSVILLE|\n",
      "+------------------------------+-------------------+\n",
      "only showing top 20 rows\n",
      "\n",
      "CPU times: user 11.8 ms, sys: 5.51 ms, total: 17.3 ms\n",
      "Wall time: 4.52 s\n"
     ]
    }
   ],
   "source": [
    "%%time\n",
    "\n",
    "new_crash = d_frame_crash.withColumnRenamed(\"Total Cas\",\"Total_no_of_casualities\")\n",
    "new_units = d_frame_units.withColumnRenamed(\"Licence Type\",\"Licence_Type\")\n",
    "\n",
    "\n",
    "\n",
    "new_crash.createOrReplaceTempView(\"crash_sql\")\n",
    "new_units.createOrReplaceTempView(\"units_sql\")\n",
    "\n",
    "\n",
    "\n",
    "query_sql = spark.sql(''' SELECT COUNT(cr.Total_no_of_casualities), cr.Suburb\n",
    "                          FROM crash_sql cr JOIN units_sql un\n",
    "                          ON cr.REPORT_ID = un.REPORT_ID\n",
    "                          Where un.Licence_Type = \"Unlicenced\"\n",
    "                          GROUP BY cr.Suburb\n",
    "                         ''')\n",
    "query_sql.show()\n",
    "\n"
   ]
  },
  {
   "cell_type": "code",
   "execution_count": null,
   "metadata": {},
   "outputs": [],
   "source": []
  }
 ],
 "metadata": {
  "kernelspec": {
   "display_name": "Python 3",
   "language": "python",
   "name": "python3"
  },
  "language_info": {
   "codemirror_mode": {
    "name": "ipython",
    "version": 3
   },
   "file_extension": ".py",
   "mimetype": "text/x-python",
   "name": "python",
   "nbconvert_exporter": "python",
   "pygments_lexer": "ipython3",
   "version": "3.8.2"
  }
 },
 "nbformat": 4,
 "nbformat_minor": 4
}
